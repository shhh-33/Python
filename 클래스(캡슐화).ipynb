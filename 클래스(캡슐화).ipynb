{
  "nbformat": 4,
  "nbformat_minor": 0,
  "metadata": {
    "colab": {
      "name": "클래스(캡슐화).ipynb",
      "provenance": [],
      "authorship_tag": "ABX9TyNJKHVKYfFNhN+6lnSM9BKG",
      "include_colab_link": true
    },
    "kernelspec": {
      "name": "python3",
      "display_name": "Python 3"
    },
    "language_info": {
      "name": "python"
    }
  },
  "cells": [
    {
      "cell_type": "markdown",
      "metadata": {
        "id": "view-in-github",
        "colab_type": "text"
      },
      "source": [
        "<a href=\"https://colab.research.google.com/github/shhh-33/sesac-python/blob/shhh/%ED%81%B4%EB%9E%98%EC%8A%A4(%EC%BA%A1%EC%8A%90%ED%99%94).ipynb\" target=\"_parent\"><img src=\"https://colab.research.google.com/assets/colab-badge.svg\" alt=\"Open In Colab\"/></a>"
      ]
    },
    {
      "cell_type": "markdown",
      "source": [
        "#구조체 캡슐화\n",
        "데이터를 멤버로 구성하는 캡슐화\n",
        "절차식 언어에서 캡슐화하는 방법"
      ],
      "metadata": {
        "id": "qXTwV6W_LOXS"
      }
    },
    {
      "cell_type": "code",
      "execution_count": 1,
      "metadata": {
        "id": "GghqCQ5zByxN"
      },
      "outputs": [],
      "source": [
        "from dataclasses import dataclass\n",
        "@dataclass\n",
        "class Product : \n",
        "  weight:int = None\n",
        "  price :int = None"
      ]
    },
    {
      "cell_type": "code",
      "source": [
        "pen = Product()\n",
        "pen.wight =100\n",
        "pen.price=1000\n",
        "print(\"무게:\",pen.wight,\"가격:\",pen.price )"
      ],
      "metadata": {
        "colab": {
          "base_uri": "https://localhost:8080/"
        },
        "id": "LjW1Y_E-Rg2v",
        "outputId": "f8df53a2-f5fe-436e-c3ce-9e549f04e29a"
      },
      "execution_count": 3,
      "outputs": [
        {
          "output_type": "stream",
          "name": "stdout",
          "text": [
            "무게: 100 가격: 1000\n"
          ]
        }
      ]
    },
    {
      "cell_type": "markdown",
      "source": [
        "클래스 캡슐화\n",
        "멤버 데이터와 멤버 메서드를 캡슐화할수있다.\n",
        "OOPL에서 캡슐화 하는 방법"
      ],
      "metadata": {
        "id": "h9HlxzMtS336"
      }
    },
    {
      "cell_type": "code",
      "source": [
        "class Student:\n",
        "  def __init__(self,num,name):\n",
        "    self.num=num\n",
        "    self.name=name\n",
        "    self.iq=0\n",
        "  def introuduce(self):\n",
        "    print(f\"번호는 {self.num},이름은 {self.name},아이큐는 {self.iq}\")\n",
        "  def Study(self):\n",
        "    self.iq+=1\n",
        "    print(f\"{self.name} 공부\")\n",
        "\n"
      ],
      "metadata": {
        "id": "lBSlhqWgRg42"
      },
      "execution_count": 4,
      "outputs": []
    },
    {
      "cell_type": "code",
      "source": [
        "s1= Student(1,\"홍길동\")\n",
        "s1.introuduce()\n",
        "s1.Study()"
      ],
      "metadata": {
        "colab": {
          "base_uri": "https://localhost:8080/"
        },
        "id": "KRQxrqQYRg6s",
        "outputId": "9976b831-9a78-42f5-ac39-5753a44b48e6"
      },
      "execution_count": 5,
      "outputs": [
        {
          "output_type": "stream",
          "name": "stdout",
          "text": [
            "번호는 1,이름은 홍길동,아이큐는 0\n",
            "홍길동 공부\n"
          ]
        }
      ]
    },
    {
      "cell_type": "markdown",
      "source": [
        "#정보은닉\n",
        "캡슐화 과정에서 특정 멤버의 가시성을 차단하는 방법\n",
        "사용하는 곳에서 직접 사용하지 못하며 형식 내부에서만 사용하게 하는 기법\n",
        "데이터 신뢰성을 높이는 방법으로 사용한다."
      ],
      "metadata": {
        "id": "7hktURT9U6wM"
      }
    },
    {
      "cell_type": "code",
      "source": [
        "#시나리오 S:\n",
        "#     학생이 연속으로 5회 공부하면 아이큐가 1 올라간다.\n",
        "class Student:\n",
        "\n",
        "  def __init__(self, name):\n",
        "    self.name=name \n",
        "    self.iq=100\n",
        "    self.__scnt=0 #연속으로 공부한 횟수\n",
        "  def study(self):\n",
        "    self.__scnt+=1\n",
        "    if self.__scnt==5: #정보 은닉한 멤버에는 접근할 수 없다.\n",
        "      self.iq+=1 #iq에만 직접적으로 접근 가능하다\n",
        "      self.__scnt=0\n",
        "  def introduce(self): \n",
        "    print(f\"이름은 {self.name} 이고 아이큐는 {self.iq} 입니다. SCNT 는 : {self.__scnt}\")"
      ],
      "metadata": {
        "id": "8RfcMJQBRg8s"
      },
      "execution_count": 20,
      "outputs": []
    },
    {
      "cell_type": "code",
      "source": [
        "s1 = Student(\"남궁길동\")\n",
        "s1.introduce()\n",
        "s1.study()\n",
        "s1.study()\n",
        "s1.study()\n",
        "s1.study()\n",
        "print(s1.iq)\n",
        "#print(s1.__iq) #정보 은닉한 멤버에 접근할 수 없다.\n",
        "s1.iq=10293\n",
        "s1.introduce()"
      ],
      "metadata": {
        "colab": {
          "base_uri": "https://localhost:8080/"
        },
        "id": "VFUCNLSrRg-Y",
        "outputId": "ba59a6fd-fc4a-4211-877b-53ae9e48a24c"
      },
      "execution_count": 23,
      "outputs": [
        {
          "output_type": "stream",
          "name": "stdout",
          "text": [
            "이름은 남궁길동 이고 아이큐는 100 입니다. SCNT 는 : 0\n",
            "100\n",
            "이름은 남궁길동 이고 아이큐는 10293 입니다. SCNT 는 : 4\n"
          ]
        }
      ]
    },
    {
      "cell_type": "markdown",
      "source": [
        "#특별한 멤버 -생성자,소멸자\n",
        "\n",
        "개체를 생성할때 생성자(__init__)를 호출한다.\n",
        "해당 개체를 소멸하는 것은 가비지 수집기가 알아서 수행한다.\n",
        "(c에서는 개발자가 직접 소멸시켜야하는 부담이 있다.)"
      ],
      "metadata": {
        "id": "nUIs_VeuYCC0"
      }
    },
    {
      "cell_type": "code",
      "source": [
        "#시나리오 S:\n",
        "#     학생이 연속으로 5회 공부하면 아이큐가 1 올라간다.\n",
        "class Student:\n",
        "\n",
        "  def __init__(self):\n",
        "    print(\"__init__\")\n",
        "  def __del__(self):\n",
        "    print(\"__del__\")\n",
        "   "
      ],
      "metadata": {
        "id": "3Bj5dwp5RhAK"
      },
      "execution_count": 24,
      "outputs": []
    },
    {
      "cell_type": "code",
      "source": [
        "s1= Student()\n",
        "s2 = Student()"
      ],
      "metadata": {
        "colab": {
          "base_uri": "https://localhost:8080/"
        },
        "id": "kvOUHHzaYT84",
        "outputId": "c0ee3436-7b84-407c-e915-3f8348075265"
      },
      "execution_count": 25,
      "outputs": [
        {
          "output_type": "stream",
          "name": "stdout",
          "text": [
            "__init__\n",
            "__init__\n"
          ]
        }
      ]
    },
    {
      "cell_type": "markdown",
      "source": [
        "#데이터 신뢰성을 높이는 멤버 --설정자, 접근자\n",
        "\n",
        "멤버 필드의 가시성을 차단하고 필요하면 설정자와 접근자를 제공하자\n",
        "설정자 - 멤버 필드에 값을 설정하는 메서드 , set_멤버필드명\n",
        "접근자 - 멤버 필드의 값을 확인하는 메서드 , get_멤버필드명"
      ],
      "metadata": {
        "id": "ZT8vQ6vPaet-"
      }
    },
    {
      "cell_type": "code",
      "source": [
        "class Student: \n",
        "  def __init__(self,name,num):\n",
        "    self.__name = name\n",
        "    self.__num = num\n",
        "    self.__korea = 0\n",
        "    self.__eng = 0\n",
        "    self.__math = 0\n",
        "  def get_name(self):\n",
        "    return self.__name\n",
        "  def get_num(self):\n",
        "    return self.__num\n",
        "  def set_korea(self, score):\n",
        "    self.__korea = score\n",
        "  def set_eng(self, score):\n",
        "    self.__eng = score\n",
        "  def set_math(self, score):\n",
        "    self.__math = score\n",
        "  def get_korea(self):\n",
        "    return self.__korea\n",
        "  def get_eng(self):\n",
        "    return self.__eng\n",
        "  def get_math(self):\n",
        "    return self.__math\n",
        "  def tostr(self):\n",
        "    return f\"이름: {self.__name}, 번호: {self.__num}, 국어: {self.__korea}, 영어: {self.__eng}, 수학: {self.__math}\"\n"
      ],
      "metadata": {
        "id": "C-qsBxQpYT_X"
      },
      "execution_count": 31,
      "outputs": []
    },
    {
      "cell_type": "code",
      "source": [
        "s1 = Student(\"선우길동\", 3)\n",
        "print(s1.tostr())\n",
        "s1.set_korea(90)\n",
        "s1.set_eng(100)\n",
        "s1.set_math(89)\n",
        "print(s1.tostr())"
      ],
      "metadata": {
        "colab": {
          "base_uri": "https://localhost:8080/"
        },
        "id": "UQu8i5hGYUBv",
        "outputId": "e04c2e36-245c-46b1-bfaa-d204319105c5"
      },
      "execution_count": 32,
      "outputs": [
        {
          "output_type": "stream",
          "name": "stdout",
          "text": [
            "이름: 선우길동, 번호: 3, 국어: 0, 영어: 0, 수학: 0\n",
            "이름: 선우길동, 번호: 3, 국어: 90, 영어: 100, 수학: 89\n"
          ]
        }
      ]
    },
    {
      "cell_type": "code",
      "source": [
        ""
      ],
      "metadata": {
        "id": "MJrtLkzgYUHs"
      },
      "execution_count": null,
      "outputs": []
    }
  ]
}