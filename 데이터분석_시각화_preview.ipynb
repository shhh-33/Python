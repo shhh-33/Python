{
  "nbformat": 4,
  "nbformat_minor": 0,
  "metadata": {
    "colab": {
      "name": "데이터분석 시각화 -preview.ipynb",
      "provenance": [],
      "authorship_tag": "ABX9TyNocSs+koZPmrpMxMcpoFB0",
      "include_colab_link": true
    },
    "kernelspec": {
      "name": "python3",
      "display_name": "Python 3"
    },
    "language_info": {
      "name": "python"
    }
  },
  "cells": [
    {
      "cell_type": "markdown",
      "metadata": {
        "id": "view-in-github",
        "colab_type": "text"
      },
      "source": [
        "<a href=\"https://colab.research.google.com/github/shhh-33/sesac-python/blob/shhh/%EB%8D%B0%EC%9D%B4%ED%84%B0%EB%B6%84%EC%84%9D_%EC%8B%9C%EA%B0%81%ED%99%94_preview.ipynb\" target=\"_parent\"><img src=\"https://colab.research.google.com/assets/colab-badge.svg\" alt=\"Open In Colab\"/></a>"
      ]
    },
    {
      "cell_type": "markdown",
      "source": [
        "#numpy 소개\n"
      ],
      "metadata": {
        "id": "y-wk2YMVWsXA"
      }
    },
    {
      "cell_type": "code",
      "execution_count": null,
      "metadata": {
        "id": "AnrhSm5qVzxr"
      },
      "outputs": [],
      "source": [
        "l1=[1,2,'a',False]"
      ]
    },
    {
      "cell_type": "code",
      "source": [
        "import numpy as np"
      ],
      "metadata": {
        "id": "uz5Yq6dJW6Rg"
      },
      "execution_count": null,
      "outputs": []
    },
    {
      "cell_type": "code",
      "source": [
        "#np 모듈에 있는 기능 (합계 최대 최소 표준편차 분산)\n",
        "\n",
        "na = np.array([1,2,3,4,5])\n",
        "np.sum(na), np.min(na), np.max(na), np.var(na), np.std(na)"
      ],
      "metadata": {
        "colab": {
          "base_uri": "https://localhost:8080/"
        },
        "id": "GHZGVepLW6Te",
        "outputId": "8f8cf0f4-78dd-47d8-d599-42c3b68ccb5b"
      },
      "execution_count": null,
      "outputs": [
        {
          "output_type": "execute_result",
          "data": {
            "text/plain": [
              "(15, 1, 5, 2.0, 1.4142135623730951)"
            ]
          },
          "metadata": {},
          "execution_count": 5
        }
      ]
    },
    {
      "cell_type": "code",
      "source": [
        "#리스트를 리스트로 한다. 규격화가 안 되어있다.\n",
        "\n",
        "l2 = [[1,2,3], [1,2], [4,5,6,7]]"
      ],
      "metadata": {
        "id": "rBGVyJlPYroe"
      },
      "execution_count": null,
      "outputs": []
    },
    {
      "cell_type": "code",
      "source": [
        "nb = np.array([1,2,3,4,5,6,7,8,9,10,11,12])\n",
        "print(\"구조 : \", nb.shape)\n",
        "print(nb)\n",
        "nb = nb.reshape(3,4) #구조를 바꿀 수 있다. 3x4 배열\n",
        "print(nb)\n",
        "print(\"구조 : \", nb.shape)"
      ],
      "metadata": {
        "colab": {
          "base_uri": "https://localhost:8080/"
        },
        "id": "rZ-Z9m76YrqP",
        "outputId": "161d1a8c-f528-4b6b-88cb-60b9fa1ede31"
      },
      "execution_count": null,
      "outputs": [
        {
          "output_type": "stream",
          "name": "stdout",
          "text": [
            "구조 :  (12,)\n",
            "[ 1  2  3  4  5  6  7  8  9 10 11 12]\n",
            "[[ 1  2  3  4]\n",
            " [ 5  6  7  8]\n",
            " [ 9 10 11 12]]\n",
            "구조 :  (3, 4)\n"
          ]
        }
      ]
    },
    {
      "cell_type": "code",
      "source": [
        "#행렬간의 계산\n",
        "\n",
        "l1 = [[1,2],[3,4]]\n",
        "l2 = [[4,5],[2,7]]\n",
        "\n",
        "l3 = l1+l2\n",
        "print(l3)"
      ],
      "metadata": {
        "colab": {
          "base_uri": "https://localhost:8080/"
        },
        "id": "sm6eTWaNYrsY",
        "outputId": "07d24a5d-9a5e-4e21-b4f1-a4bc1f33fa7f"
      },
      "execution_count": null,
      "outputs": [
        {
          "output_type": "stream",
          "name": "stdout",
          "text": [
            "[[1, 2], [3, 4], [4, 5], [2, 7]]\n"
          ]
        }
      ]
    },
    {
      "cell_type": "markdown",
      "source": [
        "#matplotlib"
      ],
      "metadata": {
        "id": "4lsysJV_aj1c"
      }
    },
    {
      "cell_type": "code",
      "source": [
        "import matplotlib.pyplot as plt"
      ],
      "metadata": {
        "id": "HxwkIHcgYrwD"
      },
      "execution_count": null,
      "outputs": []
    },
    {
      "cell_type": "code",
      "source": [
        "plt.plot([1,2,3,4,5],[1,2,3,4,5],\"ro\")\n",
        "plt.show()"
      ],
      "metadata": {
        "colab": {
          "base_uri": "https://localhost:8080/",
          "height": 265
        },
        "id": "l80tPP0kW6Vs",
        "outputId": "098f8e96-00f4-42cf-e7db-68dd5752f89f"
      },
      "execution_count": null,
      "outputs": [
        {
          "output_type": "display_data",
          "data": {
            "image/png": "[encoded data removed]",
            "text/plain": [
              "<Figure size 432x288 with 1 Axes>"
            ]
          },
          "metadata": {
            "needs_background": "light"
          }
        }
      ]
    }
  ]
}