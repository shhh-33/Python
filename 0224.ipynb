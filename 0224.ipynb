{
  "nbformat": 4,
  "nbformat_minor": 0,
  "metadata": {
    "colab": {
      "name": "0224.ipynb",
      "provenance": [],
      "mount_file_id": "1BtkSBDUeiN3M_J6mZqXZ6-e_T2a4-P-P",
      "authorship_tag": "ABX9TyMUdJQ9eO2hhYVWZwk0gnRQ",
      "include_colab_link": true
    },
    "kernelspec": {
      "name": "python3",
      "display_name": "Python 3"
    },
    "language_info": {
      "name": "python"
    }
  },
  "cells": [
    {
      "cell_type": "markdown",
      "metadata": {
        "id": "view-in-github",
        "colab_type": "text"
      },
      "source": [
        "<a href=\"https://colab.research.google.com/github/shhh-33/sesac-python/blob/shhh/0224.ipynb\" target=\"_parent\"><img src=\"https://colab.research.google.com/assets/colab-badge.svg\" alt=\"Open In Colab\"/></a>"
      ]
    },
    {
      "cell_type": "code",
      "execution_count": 7,
      "metadata": {
        "colab": {
          "base_uri": "https://localhost:8080/",
          "height": 72
        },
        "id": "g8oT4pZ2tXlB",
        "outputId": "3f358a4b-f898-4247-9323-a53a231f8144"
      },
      "outputs": [
        {
          "output_type": "execute_result",
          "data": {
            "application/vnd.google.colaboratory.intrinsic+json": {
              "type": "string"
            },
            "text/plain": [
              "'http://api.odcloud.kr/api/15098910/v1/uddi:a5ff8a87-db3e-4317-bc95-9283aa1dd4a2?page=1&perPage=10&returnType=JSON&serviceKey=%2F33q%2FK5oBqwjoP1n%2FY0EcpshnUhp5EcEujh2%2BCwA0LC60wTT78oMh7Heus0Wv1Dmyzjr2%2BPZTfqlhf2CoQDWFQ%3D%3D'"
            ]
          },
          "metadata": {},
          "execution_count": 7
        }
      ],
      "source": [
        "url =\"http://api.odcloud.kr/api/15098910/v1/uddi:a5ff8a87-db3e-4317-bc95-9283aa1dd4a2\"\n",
        "page_param = \"page=1\"\n",
        "size_param = \"perPage=10\"\n",
        "rt_param=\"returnType=JSON\" #or XML\n",
        "auth_param=\"serviceKey=%2F33q%2FK5oBqwjoP1n%2FY0EcpshnUhp5EcEujh2%2BCwA0LC60wTT78oMh7Heus0Wv1Dmyzjr2%2BPZTfqlhf2CoQDWFQ%3D%3D\"\n",
        "query_str = url + \"?\" + page_param + \"&\" + size_param + \"&\" + rt_param + \"&\" + auth_param\n",
        "query_str"
      ]
    },
    {
      "cell_type": "code",
      "source": [
        "import urllib.request"
      ],
      "metadata": {
        "id": "MCaCn6Xcw4Jm"
      },
      "execution_count": 3,
      "outputs": []
    },
    {
      "cell_type": "code",
      "source": [
        "req = urllib.request.Request(query_str)\n",
        "#req.add_header(\"Authorization\",\"infuse %2F33q%2FK5oBqwjoP1n%2FY0EcpshnUhp5EcEujh2%2BCwA0LC60wTT78oMh7Heus0Wv1Dmyzjr2%2BPZTfqlhf2CoQDWFQ%3D%3D \")\n",
        "res=urllib.request.urlopen(req)\n",
        "data = res.read().decode('utf-8')\n",
        "print(data)"
      ],
      "metadata": {
        "colab": {
          "base_uri": "https://localhost:8080/"
        },
        "id": "6K8OvM9Pw4Lr",
        "outputId": "bf40cc2c-cabc-46d0-d1c4-71235a29f790"
      },
      "execution_count": 9,
      "outputs": [
        {
          "output_type": "stream",
          "name": "stdout",
          "text": [
            "{\"currentCount\":10,\"data\":[{\"구분\":\"2020-01-31\",\"사망자\":0,\"확진자\":0},{\"구분\":\"2020-02-29\",\"사망자\":0,\"확진자\":1},{\"구분\":\"2020-03-31\",\"사망자\":0,\"확진자\":45},{\"구분\":\"2020-04-30\",\"사망자\":0,\"확진자\":0},{\"구분\":\"2020-05-31\",\"사망자\":0,\"확진자\":1},{\"구분\":\"2020-06-30\",\"사망자\":0,\"확진자\":3},{\"구분\":\"2020-07-31\",\"사망자\":0,\"확진자\":0},{\"구분\":\"2020-08-31\",\"사망자\":0,\"확진자\":17},{\"구분\":\"2020-09-30\",\"사망자\":0,\"확진자\":9},{\"구분\":\"2020-10-31\",\"사망자\":0,\"확진자\":6}],\"matchCount\":24,\"page\":1,\"perPage\":10,\"totalCount\":24}\n",
            "\n"
          ]
        }
      ]
    },
    {
      "cell_type": "code",
      "source": [
        "\n",
        "\n",
        "\"\"\"\n",
        "from datetime import datetime\n",
        "class CovidData:\n",
        "  def __init__(self,dt,dcnt,ccnt):\n",
        "    self.dt = dt\n",
        "    self.dcnt = dcnt\n",
        "    self.ccnt =ccnt\n",
        "\n",
        "  @staticmethod  \n",
        "  def make_covid_data(src):\n",
        "      dt = datetime.strptime(src['구분'],'%Y-%m-%d')\n",
        "      dcnt =src['사망자']\n",
        "      ccnt =src['확진자']\n",
        "      return CovidData(dt,dcnt,ccnt)\n",
        "\"\"\"\n",
        "     "
      ],
      "metadata": {
        "id": "Dgt7Tq7Iw4Nv"
      },
      "execution_count": 17,
      "outputs": []
    },
    {
      "cell_type": "code",
      "source": [
        "\"\"\"\n",
        "dt = datetime.strptime('2020-03-31','%Y-%m-%d')\n",
        "print(dt)\n",
        "print(type(dt))\n",
        "def make_covid_data(src):\n",
        "  dt = datetime.strptime(src['구분'],'%Y-%m-%d')\n",
        "  dcnt =src['사망자']\n",
        "  ccnt =src['확진자']\n",
        "  return CovidData(dt,dcnt,ccnt)\n",
        "\n",
        "CovidData.make_covid_data(src)\n",
        "\"\"\"\n"
      ],
      "metadata": {
        "id": "hHq1Ds_oKKaR"
      },
      "execution_count": null,
      "outputs": []
    },
    {
      "cell_type": "code",
      "source": [
        "import sys\n",
        "sys.path.append('/content/drive/MyDrive/파이썬/') #모듈 경로를 추가"
      ],
      "metadata": {
        "id": "62BB5wHaNkrc"
      },
      "execution_count": 23,
      "outputs": []
    },
    {
      "cell_type": "code",
      "source": [
        "from coviddata import CovidData"
      ],
      "metadata": {
        "id": "ganBTyx7NcWW"
      },
      "execution_count": 24,
      "outputs": []
    },
    {
      "cell_type": "code",
      "source": [
        "import json\n",
        "jres = json.loads(data)\n",
        "cdata = jres['data']\n",
        "cds=[]\n",
        "for raw_cd in cdata:\n",
        "  cds.append(CovidData.make_covid_data(raw_cd))\n",
        "for cd in cds:\n",
        "  print(f\"일자:{cd.dt} 사망자:{cd.ccnt} 확진자:{cd.ccnt}\")"
      ],
      "metadata": {
        "colab": {
          "base_uri": "https://localhost:8080/"
        },
        "id": "84CWWView4WV",
        "outputId": "5634cff6-cb49-4d44-d277-4a86fe0b280d"
      },
      "execution_count": 25,
      "outputs": [
        {
          "output_type": "stream",
          "name": "stdout",
          "text": [
            "일자:2020-01-31 00:00:00 사망자:0 확진자:0\n",
            "일자:2020-02-29 00:00:00 사망자:1 확진자:1\n",
            "일자:2020-03-31 00:00:00 사망자:45 확진자:45\n",
            "일자:2020-04-30 00:00:00 사망자:0 확진자:0\n",
            "일자:2020-05-31 00:00:00 사망자:1 확진자:1\n",
            "일자:2020-06-30 00:00:00 사망자:3 확진자:3\n",
            "일자:2020-07-31 00:00:00 사망자:0 확진자:0\n",
            "일자:2020-08-31 00:00:00 사망자:17 확진자:17\n",
            "일자:2020-09-30 00:00:00 사망자:9 확진자:9\n",
            "일자:2020-10-31 00:00:00 사망자:6 확진자:6\n"
          ]
        }
      ]
    }
  ]
}