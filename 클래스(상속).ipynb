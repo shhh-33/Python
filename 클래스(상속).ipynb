{
  "nbformat": 4,
  "nbformat_minor": 0,
  "metadata": {
    "colab": {
      "name": "클래스(상속).ipynb",
      "provenance": [],
      "authorship_tag": "ABX9TyP9ViNtElvpalJMd5jq/elK",
      "include_colab_link": true
    },
    "kernelspec": {
      "name": "python3",
      "display_name": "Python 3"
    },
    "language_info": {
      "name": "python"
    }
  },
  "cells": [
    {
      "cell_type": "markdown",
      "metadata": {
        "id": "view-in-github",
        "colab_type": "text"
      },
      "source": [
        "<a href=\"https://colab.research.google.com/github/shhh-33/sesac-python/blob/shhh/%ED%81%B4%EB%9E%98%EC%8A%A4(%EC%83%81%EC%86%8D).ipynb\" target=\"_parent\"><img src=\"https://colab.research.google.com/assets/colab-badge.svg\" alt=\"Open In Colab\"/></a>"
      ]
    },
    {
      "cell_type": "markdown",
      "source": [
        "#상속\n",
        "기반 형식에 정의한 멤버는 파생 형식에 상속한다.\n",
        "예 : 음악가 형식에 이름, 연주하다를 캡슐화하면\n",
        "     음악가에서 파생한 형식인 피아니스트는 자동으로 이름 ,연주하다 멤버를 갖게된다."
      ],
      "metadata": {
        "id": "C7Sez9l_rkkj"
      }
    },
    {
      "cell_type": "code",
      "source": [
        "class Man:\n",
        "  def __init__(self, name):\n",
        "    self.__name = name\n",
        "  def introduce(self):\n",
        "    print(\"my name is \", self.__name)"
      ],
      "metadata": {
        "id": "_uYPdE61kI4Y"
      },
      "execution_count": 4,
      "outputs": []
    },
    {
      "cell_type": "code",
      "source": [
        "m1 = Man(\"부길동\")\n",
        "m1.introduce()"
      ],
      "metadata": {
        "colab": {
          "base_uri": "https://localhost:8080/"
        },
        "id": "NiWdcQU0kPzQ",
        "outputId": "d4853f27-85b7-42f4-c8cd-4bf4c2223b2b"
      },
      "execution_count": 6,
      "outputs": [
        {
          "output_type": "stream",
          "name": "stdout",
          "text": [
            "my name is  부길동\n"
          ]
        }
      ]
    },
    {
      "cell_type": "code",
      "source": [
        "class Student(Man):\n",
        "  def __init__(self, name, num):\n",
        "    super().__init__(name)\n",
        "    self.__num = num\n",
        "  def view(self):\n",
        "    self.introduce()\n",
        "    print(\"my number is \", self.__num)"
      ],
      "metadata": {
        "id": "IlAl2h9kkP1R"
      },
      "execution_count": 12,
      "outputs": []
    },
    {
      "cell_type": "code",
      "source": [
        "s1=Student(\"좌길동\", 2)\n",
        "s1.view()\n",
        "s1.introduce()"
      ],
      "metadata": {
        "colab": {
          "base_uri": "https://localhost:8080/"
        },
        "id": "vb0bvlhZkP3p",
        "outputId": "5ea35d2c-54a5-4816-d5c9-7b0ddac56613"
      },
      "execution_count": 13,
      "outputs": [
        {
          "output_type": "stream",
          "name": "stdout",
          "text": [
            "my name is  좌길동\n",
            "my number is  2\n",
            "my name is  좌길동\n"
          ]
        }
      ]
    },
    {
      "cell_type": "code",
      "source": [
        ""
      ],
      "metadata": {
        "id": "CxFhdhRnsNZX"
      },
      "execution_count": null,
      "outputs": []
    },
    {
      "cell_type": "code",
      "source": [
        "if isinstance(s1,Man):\n",
        "  print(\"사람\")\n",
        "else:\n",
        "  print(\"사람 아님 \")"
      ],
      "metadata": {
        "colab": {
          "base_uri": "https://localhost:8080/"
        },
        "id": "6QWRoZFhllpZ",
        "outputId": "af493a31-f0b6-4646-b334-d62232ea46e5"
      },
      "execution_count": 14,
      "outputs": [
        {
          "output_type": "stream",
          "name": "stdout",
          "text": [
            "사람\n"
          ]
        }
      ]
    }
  ]
}