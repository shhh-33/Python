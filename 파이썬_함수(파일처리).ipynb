{
  "nbformat": 4,
  "nbformat_minor": 0,
  "metadata": {
    "colab": {
      "name": "파이썬-함수(파일처리).ipynb",
      "provenance": [],
      "collapsed_sections": [],
      "mount_file_id": "15WrkWjizW1vFUermayZzC8hBUghtEYx3",
      "authorship_tag": "ABX9TyNF6QsmJ2ruuu58u8MXhpFD",
      "include_colab_link": true
    },
    "kernelspec": {
      "name": "python3",
      "display_name": "Python 3"
    },
    "language_info": {
      "name": "python"
    }
  },
  "cells": [
    {
      "cell_type": "markdown",
      "metadata": {
        "id": "view-in-github",
        "colab_type": "text"
      },
      "source": [
        "<a href=\"https://colab.research.google.com/github/shhh-33/sesac-python/blob/shhh/%ED%8C%8C%EC%9D%B4%EC%8D%AC_%ED%95%A8%EC%88%98(%ED%8C%8C%EC%9D%BC%EC%B2%98%EB%A6%AC).ipynb\" target=\"_parent\"><img src=\"https://colab.research.google.com/assets/colab-badge.svg\" alt=\"Open In Colab\"/></a>"
      ]
    },
    {
      "cell_type": "markdown",
      "source": [
        ""
      ],
      "metadata": {
        "id": "BxfG-kLM8Egf"
      }
    },
    {
      "cell_type": "code",
      "source": [
        "fp='/demo.txt'\n",
        "fs=open(fp,'r')\n",
        "data = fs.read()\n",
        "print(data)\n"
      ],
      "metadata": {
        "id": "7vhxB9pVd8ue"
      },
      "execution_count": null,
      "outputs": []
    },
    {
      "cell_type": "code",
      "source": [
        "folder ='/content/drive/MyDrive/파이썬'"
      ],
      "metadata": {
        "id": "ksO_VNZFe47A"
      },
      "execution_count": 42,
      "outputs": []
    },
    {
      "cell_type": "code",
      "source": [
        "members =[\n",
        "          [\"홍길동\",90,80,90],\n",
        "          [\"제갈길동\",10,20,30]\n",
        "]"
      ],
      "metadata": {
        "id": "TM8AHKt_0pIz"
      },
      "execution_count": 43,
      "outputs": []
    },
    {
      "cell_type": "code",
      "source": [
        "fname = folder +\"mscores2.csv\"\n",
        "fname"
      ],
      "metadata": {
        "colab": {
          "base_uri": "https://localhost:8080/",
          "height": 35
        },
        "id": "LLXCjA7W0pS-",
        "outputId": "c773222f-f5bb-4893-e510-05f509c955d6"
      },
      "execution_count": 53,
      "outputs": [
        {
          "output_type": "execute_result",
          "data": {
            "application/vnd.google.colaboratory.intrinsic+json": {
              "type": "string"
            },
            "text/plain": [
              "'/content/drive/MyDrive/파이썬mscores2.csv'"
            ]
          },
          "metadata": {},
          "execution_count": 53
        }
      ]
    },
    {
      "cell_type": "code",
      "source": [
        "with open(fname,'w') as fs:\n",
        "  print(\"um\")\n",
        "fs = open(fname,'w')\n",
        "print(\"um\")\n",
        "fs.close()"
      ],
      "metadata": {
        "colab": {
          "base_uri": "https://localhost:8080/"
        },
        "id": "-a16FLRT0pYx",
        "outputId": "e1a75cf1-efc0-4b37-a43a-53c3a7b442d7"
      },
      "execution_count": 45,
      "outputs": [
        {
          "output_type": "stream",
          "name": "stdout",
          "text": [
            "um\n",
            "um\n"
          ]
        }
      ]
    },
    {
      "cell_type": "code",
      "source": [
        "fs = open(fname,'w')\n",
        "for member in members:\n",
        "  fs.write(f\"{member[0]},{member[1]},{member[2]},{member[3]}\")\n",
        "fs.close()\n",
        "\n"
      ],
      "metadata": {
        "id": "Dl1RvBZi1olW"
      },
      "execution_count": 46,
      "outputs": []
    },
    {
      "cell_type": "code",
      "source": [
        "#csv 모듈 이용해서\n",
        "\n",
        "import csv\n",
        "fname2 = folder+\"mscores2.csv\"\n",
        "with open(fname2, 'w', newline='') as csvfile:\n",
        "  sw=csv.writer(csvfile, delimiter=',')\n",
        "  for member in members:\n",
        "    sw.writerow(member)"
      ],
      "metadata": {
        "id": "_yM1FjOT2Wny"
      },
      "execution_count": 47,
      "outputs": []
    },
    {
      "cell_type": "code",
      "source": [
        "fs = open(fname,'r')\n",
        "members=[]\n",
        "while True:\n",
        "  record = fs.readline()\n",
        "  if record ==\"\":\n",
        "    break\n",
        "  record.replace(\"\\n\",\"\")\n",
        "  sdata = record.split(',')\n",
        "  rs =[]\n",
        "  rs.append(sdata[0])\n",
        "  for i in range(1,4):\n",
        "    rs.append(int(sdata[i]))\n",
        "  members.append(rs)\n",
        "fs.close()\n",
        "print(members)"
      ],
      "metadata": {
        "colab": {
          "base_uri": "https://localhost:8080/"
        },
        "id": "VfQP3bOq3fBS",
        "outputId": "363721bd-24a1-46da-ebbd-f7079d50104d"
      },
      "execution_count": 54,
      "outputs": [
        {
          "output_type": "stream",
          "name": "stdout",
          "text": [
            "[['홍길동', 90, 80, 90], ['제갈길동', 10, 20, 30]]\n"
          ]
        }
      ]
    },
    {
      "cell_type": "code",
      "source": [
        "import csv\n",
        "fs = open(fname, 'r', newline='')\n",
        "reader = csv.reader(fs)\n",
        "for row in reader:\n",
        "  rs =[]\n",
        "  rs.append(row[0])\n",
        "  for i in range(1,4):\n",
        "    rs.append(int(sdata[i]))\n",
        "  members.append(rs)  \n",
        "fs.close()\n",
        "print(members)"
      ],
      "metadata": {
        "colab": {
          "base_uri": "https://localhost:8080/"
        },
        "id": "LQ-rTnuI3fEX",
        "outputId": "89bed620-1b76-4880-dff8-d8d4fd7fc9ad"
      },
      "execution_count": 55,
      "outputs": [
        {
          "output_type": "stream",
          "name": "stdout",
          "text": [
            "[['홍길동', 90, 80, 90], ['제갈길동', 10, 20, 30], ['홍길동', 10, 20, 30], ['제갈길동', 10, 20, 30]]\n"
          ]
        }
      ]
    },
    {
      "cell_type": "code",
      "source": [
        "import pandas as pd\n",
        "members =pd.read_csv(fname,header=None)\n",
        "members"
      ],
      "metadata": {
        "colab": {
          "base_uri": "https://localhost:8080/",
          "height": 112
        },
        "id": "zNQFsQOI3fGn",
        "outputId": "8caaee36-4977-4be9-9ccd-ef340eaf1d85"
      },
      "execution_count": 56,
      "outputs": [
        {
          "output_type": "execute_result",
          "data": {
            "text/html": [
              "\n",
              "  <div id=\"df-c668cac0-793f-4abf-994a-0105af72fc04\">\n",
              "    <div class=\"colab-df-container\">\n",
              "      <div>\n",
              "<style scoped>\n",
              "    .dataframe tbody tr th:only-of-type {\n",
              "        vertical-align: middle;\n",
              "    }\n",
              "\n",
              "    .dataframe tbody tr th {\n",
              "        vertical-align: top;\n",
              "    }\n",
              "\n",
              "    .dataframe thead th {\n",
              "        text-align: right;\n",
              "    }\n",
              "</style>\n",
              "<table border=\"1\" class=\"dataframe\">\n",
              "  <thead>\n",
              "    <tr style=\"text-align: right;\">\n",
              "      <th></th>\n",
              "      <th>0</th>\n",
              "      <th>1</th>\n",
              "      <th>2</th>\n",
              "      <th>3</th>\n",
              "    </tr>\n",
              "  </thead>\n",
              "  <tbody>\n",
              "    <tr>\n",
              "      <th>0</th>\n",
              "      <td>홍길동</td>\n",
              "      <td>90</td>\n",
              "      <td>80</td>\n",
              "      <td>90</td>\n",
              "    </tr>\n",
              "    <tr>\n",
              "      <th>1</th>\n",
              "      <td>제갈길동</td>\n",
              "      <td>10</td>\n",
              "      <td>20</td>\n",
              "      <td>30</td>\n",
              "    </tr>\n",
              "  </tbody>\n",
              "</table>\n",
              "</div>\n",
              "      <button class=\"colab-df-convert\" onclick=\"convertToInteractive('df-c668cac0-793f-4abf-994a-0105af72fc04')\"\n",
              "              title=\"Convert this dataframe to an interactive table.\"\n",
              "              style=\"display:none;\">\n",
              "        \n",
              "  <svg xmlns=\"http://www.w3.org/2000/svg\" height=\"24px\"viewBox=\"0 0 24 24\"\n",
              "       width=\"24px\">\n",
              "    <path d=\"M0 0h24v24H0V0z\" fill=\"none\"/>\n",
              "    <path d=\"M18.56 5.44l.94 2.06.94-2.06 2.06-.94-2.06-.94-.94-2.06-.94 2.06-2.06.94zm-11 1L8.5 8.5l.94-2.06 2.06-.94-2.06-.94L8.5 2.5l-.94 2.06-2.06.94zm10 10l.94 2.06.94-2.06 2.06-.94-2.06-.94-.94-2.06-.94 2.06-2.06.94z\"/><path d=\"M17.41 7.96l-1.37-1.37c-.4-.4-.92-.59-1.43-.59-.52 0-1.04.2-1.43.59L10.3 9.45l-7.72 7.72c-.78.78-.78 2.05 0 2.83L4 21.41c.39.39.9.59 1.41.59.51 0 1.02-.2 1.41-.59l7.78-7.78 2.81-2.81c.8-.78.8-2.07 0-2.86zM5.41 20L4 18.59l7.72-7.72 1.47 1.35L5.41 20z\"/>\n",
              "  </svg>\n",
              "      </button>\n",
              "      \n",
              "  <style>\n",
              "    .colab-df-container {\n",
              "      display:flex;\n",
              "      flex-wrap:wrap;\n",
              "      gap: 12px;\n",
              "    }\n",
              "\n",
              "    .colab-df-convert {\n",
              "      background-color: #E8F0FE;\n",
              "      border: none;\n",
              "      border-radius: 50%;\n",
              "      cursor: pointer;\n",
              "      display: none;\n",
              "      fill: #1967D2;\n",
              "      height: 32px;\n",
              "      padding: 0 0 0 0;\n",
              "      width: 32px;\n",
              "    }\n",
              "\n",
              "    .colab-df-convert:hover {\n",
              "      background-color: #E2EBFA;\n",
              "      box-shadow: 0px 1px 2px rgba(60, 64, 67, 0.3), 0px 1px 3px 1px rgba(60, 64, 67, 0.15);\n",
              "      fill: #174EA6;\n",
              "    }\n",
              "\n",
              "    [theme=dark] .colab-df-convert {\n",
              "      background-color: #3B4455;\n",
              "      fill: #D2E3FC;\n",
              "    }\n",
              "\n",
              "    [theme=dark] .colab-df-convert:hover {\n",
              "      background-color: #434B5C;\n",
              "      box-shadow: 0px 1px 3px 1px rgba(0, 0, 0, 0.15);\n",
              "      filter: drop-shadow(0px 1px 2px rgba(0, 0, 0, 0.3));\n",
              "      fill: #FFFFFF;\n",
              "    }\n",
              "  </style>\n",
              "\n",
              "      <script>\n",
              "        const buttonEl =\n",
              "          document.querySelector('#df-c668cac0-793f-4abf-994a-0105af72fc04 button.colab-df-convert');\n",
              "        buttonEl.style.display =\n",
              "          google.colab.kernel.accessAllowed ? 'block' : 'none';\n",
              "\n",
              "        async function convertToInteractive(key) {\n",
              "          const element = document.querySelector('#df-c668cac0-793f-4abf-994a-0105af72fc04');\n",
              "          const dataTable =\n",
              "            await google.colab.kernel.invokeFunction('convertToInteractive',\n",
              "                                                     [key], {});\n",
              "          if (!dataTable) return;\n",
              "\n",
              "          const docLinkHtml = 'Like what you see? Visit the ' +\n",
              "            '<a target=\"_blank\" href=https://colab.research.google.com/notebooks/data_table.ipynb>data table notebook</a>'\n",
              "            + ' to learn more about interactive tables.';\n",
              "          element.innerHTML = '';\n",
              "          dataTable['output_type'] = 'display_data';\n",
              "          await google.colab.output.renderOutput(dataTable, element);\n",
              "          const docLink = document.createElement('div');\n",
              "          docLink.innerHTML = docLinkHtml;\n",
              "          element.appendChild(docLink);\n",
              "        }\n",
              "      </script>\n",
              "    </div>\n",
              "  </div>\n",
              "  "
            ],
            "text/plain": [
              "      0   1   2   3\n",
              "0   홍길동  90  80  90\n",
              "1  제갈길동  10  20  30"
            ]
          },
          "metadata": {},
          "execution_count": 56
        }
      ]
    }
  ]
}