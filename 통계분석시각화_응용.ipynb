{
  "nbformat": 4,
  "nbformat_minor": 0,
  "metadata": {
    "colab": {
      "name": "통계분석시각화-응용.ipynb",
      "provenance": [],
      "authorship_tag": "ABX9TyN1mR4bmapSIgloOeF4nhWb",
      "include_colab_link": true
    },
    "kernelspec": {
      "name": "python3",
      "display_name": "Python 3"
    },
    "language_info": {
      "name": "python"
    }
  },
  "cells": [
    {
      "cell_type": "markdown",
      "metadata": {
        "id": "view-in-github",
        "colab_type": "text"
      },
      "source": [
        "<a href=\"https://colab.research.google.com/github/shhh-33/sesac-python/blob/shhh/%ED%86%B5%EA%B3%84%EB%B6%84%EC%84%9D%EC%8B%9C%EA%B0%81%ED%99%94_%EC%9D%91%EC%9A%A9.ipynb\" target=\"_parent\"><img src=\"https://colab.research.google.com/assets/colab-badge.svg\" alt=\"Open In Colab\"/></a>"
      ]
    },
    {
      "cell_type": "code",
      "source": [
        "import pandas as pd\n",
        "import numpy as np\n",
        "import matplotlib.pyplot as plt"
      ],
      "metadata": {
        "id": "zKF6RkqKaBAl"
      },
      "execution_count": 17,
      "outputs": []
    },
    {
      "cell_type": "code",
      "source": [
        "path = '/content/sample_data/train_titanic.csv'\n",
        "df = pd.read_csv(path)\n",
        "df"
      ],
      "metadata": {
        "colab": {
          "base_uri": "https://localhost:8080/",
          "height": 554
        },
        "id": "3ZooCQPfKYKE",
        "outputId": "1539c5ad-cc3a-4888-e03e-b1b9f7720b55"
      },
      "execution_count": 16,
      "outputs": [
        {
          "output_type": "execute_result",
          "data": {
            "text/html": [
              "\n",
              "  <div id=\"df-70b4a17c-0971-4240-aa11-ab840a0bfa37\">\n",
              "    <div class=\"colab-df-container\">\n",
              "      <div>\n",
              "<style scoped>\n",
              "    .dataframe tbody tr th:only-of-type {\n",
              "        vertical-align: middle;\n",
              "    }\n",
              "\n",
              "    .dataframe tbody tr th {\n",
              "        vertical-align: top;\n",
              "    }\n",
              "\n",
              "    .dataframe thead th {\n",
              "        text-align: right;\n",
              "    }\n",
              "</style>\n",
              "<table border=\"1\" class=\"dataframe\">\n",
              "  <thead>\n",
              "    <tr style=\"text-align: right;\">\n",
              "      <th></th>\n",
              "      <th>PassengerId</th>\n",
              "      <th>Survived</th>\n",
              "      <th>Pclass</th>\n",
              "      <th>Name</th>\n",
              "      <th>Sex</th>\n",
              "      <th>Age</th>\n",
              "      <th>SibSp</th>\n",
              "      <th>Parch</th>\n",
              "      <th>Ticket</th>\n",
              "      <th>Fare</th>\n",
              "      <th>Cabin</th>\n",
              "      <th>Embarked</th>\n",
              "    </tr>\n",
              "  </thead>\n",
              "  <tbody>\n",
              "    <tr>\n",
              "      <th>0</th>\n",
              "      <td>1</td>\n",
              "      <td>0</td>\n",
              "      <td>3</td>\n",
              "      <td>Braund, Mr. Owen Harris</td>\n",
              "      <td>male</td>\n",
              "      <td>22.0</td>\n",
              "      <td>1</td>\n",
              "      <td>0</td>\n",
              "      <td>A/5 21171</td>\n",
              "      <td>7.2500</td>\n",
              "      <td>NaN</td>\n",
              "      <td>S</td>\n",
              "    </tr>\n",
              "    <tr>\n",
              "      <th>1</th>\n",
              "      <td>2</td>\n",
              "      <td>1</td>\n",
              "      <td>1</td>\n",
              "      <td>Cumings, Mrs. John Bradley (Florence Briggs Th...</td>\n",
              "      <td>female</td>\n",
              "      <td>38.0</td>\n",
              "      <td>1</td>\n",
              "      <td>0</td>\n",
              "      <td>PC 17599</td>\n",
              "      <td>71.2833</td>\n",
              "      <td>C85</td>\n",
              "      <td>C</td>\n",
              "    </tr>\n",
              "    <tr>\n",
              "      <th>2</th>\n",
              "      <td>3</td>\n",
              "      <td>1</td>\n",
              "      <td>3</td>\n",
              "      <td>Heikkinen, Miss. Laina</td>\n",
              "      <td>female</td>\n",
              "      <td>26.0</td>\n",
              "      <td>0</td>\n",
              "      <td>0</td>\n",
              "      <td>STON/O2. 3101282</td>\n",
              "      <td>7.9250</td>\n",
              "      <td>NaN</td>\n",
              "      <td>S</td>\n",
              "    </tr>\n",
              "    <tr>\n",
              "      <th>3</th>\n",
              "      <td>4</td>\n",
              "      <td>1</td>\n",
              "      <td>1</td>\n",
              "      <td>Futrelle, Mrs. Jacques Heath (Lily May Peel)</td>\n",
              "      <td>female</td>\n",
              "      <td>35.0</td>\n",
              "      <td>1</td>\n",
              "      <td>0</td>\n",
              "      <td>113803</td>\n",
              "      <td>53.1000</td>\n",
              "      <td>C123</td>\n",
              "      <td>S</td>\n",
              "    </tr>\n",
              "    <tr>\n",
              "      <th>4</th>\n",
              "      <td>5</td>\n",
              "      <td>0</td>\n",
              "      <td>3</td>\n",
              "      <td>Allen, Mr. William Henry</td>\n",
              "      <td>male</td>\n",
              "      <td>35.0</td>\n",
              "      <td>0</td>\n",
              "      <td>0</td>\n",
              "      <td>373450</td>\n",
              "      <td>8.0500</td>\n",
              "      <td>NaN</td>\n",
              "      <td>S</td>\n",
              "    </tr>\n",
              "    <tr>\n",
              "      <th>...</th>\n",
              "      <td>...</td>\n",
              "      <td>...</td>\n",
              "      <td>...</td>\n",
              "      <td>...</td>\n",
              "      <td>...</td>\n",
              "      <td>...</td>\n",
              "      <td>...</td>\n",
              "      <td>...</td>\n",
              "      <td>...</td>\n",
              "      <td>...</td>\n",
              "      <td>...</td>\n",
              "      <td>...</td>\n",
              "    </tr>\n",
              "    <tr>\n",
              "      <th>886</th>\n",
              "      <td>887</td>\n",
              "      <td>0</td>\n",
              "      <td>2</td>\n",
              "      <td>Montvila, Rev. Juozas</td>\n",
              "      <td>male</td>\n",
              "      <td>27.0</td>\n",
              "      <td>0</td>\n",
              "      <td>0</td>\n",
              "      <td>211536</td>\n",
              "      <td>13.0000</td>\n",
              "      <td>NaN</td>\n",
              "      <td>S</td>\n",
              "    </tr>\n",
              "    <tr>\n",
              "      <th>887</th>\n",
              "      <td>888</td>\n",
              "      <td>1</td>\n",
              "      <td>1</td>\n",
              "      <td>Graham, Miss. Margaret Edith</td>\n",
              "      <td>female</td>\n",
              "      <td>19.0</td>\n",
              "      <td>0</td>\n",
              "      <td>0</td>\n",
              "      <td>112053</td>\n",
              "      <td>30.0000</td>\n",
              "      <td>B42</td>\n",
              "      <td>S</td>\n",
              "    </tr>\n",
              "    <tr>\n",
              "      <th>888</th>\n",
              "      <td>889</td>\n",
              "      <td>0</td>\n",
              "      <td>3</td>\n",
              "      <td>Johnston, Miss. Catherine Helen \"Carrie\"</td>\n",
              "      <td>female</td>\n",
              "      <td>NaN</td>\n",
              "      <td>1</td>\n",
              "      <td>2</td>\n",
              "      <td>W./C. 6607</td>\n",
              "      <td>23.4500</td>\n",
              "      <td>NaN</td>\n",
              "      <td>S</td>\n",
              "    </tr>\n",
              "    <tr>\n",
              "      <th>889</th>\n",
              "      <td>890</td>\n",
              "      <td>1</td>\n",
              "      <td>1</td>\n",
              "      <td>Behr, Mr. Karl Howell</td>\n",
              "      <td>male</td>\n",
              "      <td>26.0</td>\n",
              "      <td>0</td>\n",
              "      <td>0</td>\n",
              "      <td>111369</td>\n",
              "      <td>30.0000</td>\n",
              "      <td>C148</td>\n",
              "      <td>C</td>\n",
              "    </tr>\n",
              "    <tr>\n",
              "      <th>890</th>\n",
              "      <td>891</td>\n",
              "      <td>0</td>\n",
              "      <td>3</td>\n",
              "      <td>Dooley, Mr. Patrick</td>\n",
              "      <td>male</td>\n",
              "      <td>32.0</td>\n",
              "      <td>0</td>\n",
              "      <td>0</td>\n",
              "      <td>370376</td>\n",
              "      <td>7.7500</td>\n",
              "      <td>NaN</td>\n",
              "      <td>Q</td>\n",
              "    </tr>\n",
              "  </tbody>\n",
              "</table>\n",
              "<p>891 rows × 12 columns</p>\n",
              "</div>\n",
              "      <button class=\"colab-df-convert\" onclick=\"convertToInteractive('df-70b4a17c-0971-4240-aa11-ab840a0bfa37')\"\n",
              "              title=\"Convert this dataframe to an interactive table.\"\n",
              "              style=\"display:none;\">\n",
              "        \n",
              "  <svg xmlns=\"http://www.w3.org/2000/svg\" height=\"24px\"viewBox=\"0 0 24 24\"\n",
              "       width=\"24px\">\n",
              "    <path d=\"M0 0h24v24H0V0z\" fill=\"none\"/>\n",
              "    <path d=\"M18.56 5.44l.94 2.06.94-2.06 2.06-.94-2.06-.94-.94-2.06-.94 2.06-2.06.94zm-11 1L8.5 8.5l.94-2.06 2.06-.94-2.06-.94L8.5 2.5l-.94 2.06-2.06.94zm10 10l.94 2.06.94-2.06 2.06-.94-2.06-.94-.94-2.06-.94 2.06-2.06.94z\"/><path d=\"M17.41 7.96l-1.37-1.37c-.4-.4-.92-.59-1.43-.59-.52 0-1.04.2-1.43.59L10.3 9.45l-7.72 7.72c-.78.78-.78 2.05 0 2.83L4 21.41c.39.39.9.59 1.41.59.51 0 1.02-.2 1.41-.59l7.78-7.78 2.81-2.81c.8-.78.8-2.07 0-2.86zM5.41 20L4 18.59l7.72-7.72 1.47 1.35L5.41 20z\"/>\n",
              "  </svg>\n",
              "      </button>\n",
              "      \n",
              "  <style>\n",
              "    .colab-df-container {\n",
              "      display:flex;\n",
              "      flex-wrap:wrap;\n",
              "      gap: 12px;\n",
              "    }\n",
              "\n",
              "    .colab-df-convert {\n",
              "      background-color: #E8F0FE;\n",
              "      border: none;\n",
              "      border-radius: 50%;\n",
              "      cursor: pointer;\n",
              "      display: none;\n",
              "      fill: #1967D2;\n",
              "      height: 32px;\n",
              "      padding: 0 0 0 0;\n",
              "      width: 32px;\n",
              "    }\n",
              "\n",
              "    .colab-df-convert:hover {\n",
              "      background-color: #E2EBFA;\n",
              "      box-shadow: 0px 1px 2px rgba(60, 64, 67, 0.3), 0px 1px 3px 1px rgba(60, 64, 67, 0.15);\n",
              "      fill: #174EA6;\n",
              "    }\n",
              "\n",
              "    [theme=dark] .colab-df-convert {\n",
              "      background-color: #3B4455;\n",
              "      fill: #D2E3FC;\n",
              "    }\n",
              "\n",
              "    [theme=dark] .colab-df-convert:hover {\n",
              "      background-color: #434B5C;\n",
              "      box-shadow: 0px 1px 3px 1px rgba(0, 0, 0, 0.15);\n",
              "      filter: drop-shadow(0px 1px 2px rgba(0, 0, 0, 0.3));\n",
              "      fill: #FFFFFF;\n",
              "    }\n",
              "  </style>\n",
              "\n",
              "      <script>\n",
              "        const buttonEl =\n",
              "          document.querySelector('#df-70b4a17c-0971-4240-aa11-ab840a0bfa37 button.colab-df-convert');\n",
              "        buttonEl.style.display =\n",
              "          google.colab.kernel.accessAllowed ? 'block' : 'none';\n",
              "\n",
              "        async function convertToInteractive(key) {\n",
              "          const element = document.querySelector('#df-70b4a17c-0971-4240-aa11-ab840a0bfa37');\n",
              "          const dataTable =\n",
              "            await google.colab.kernel.invokeFunction('convertToInteractive',\n",
              "                                                     [key], {});\n",
              "          if (!dataTable) return;\n",
              "\n",
              "          const docLinkHtml = 'Like what you see? Visit the ' +\n",
              "            '<a target=\"_blank\" href=https://colab.research.google.com/notebooks/data_table.ipynb>data table notebook</a>'\n",
              "            + ' to learn more about interactive tables.';\n",
              "          element.innerHTML = '';\n",
              "          dataTable['output_type'] = 'display_data';\n",
              "          await google.colab.output.renderOutput(dataTable, element);\n",
              "          const docLink = document.createElement('div');\n",
              "          docLink.innerHTML = docLinkHtml;\n",
              "          element.appendChild(docLink);\n",
              "        }\n",
              "      </script>\n",
              "    </div>\n",
              "  </div>\n",
              "  "
            ],
            "text/plain": [
              "     PassengerId  Survived  Pclass  ...     Fare Cabin  Embarked\n",
              "0              1         0       3  ...   7.2500   NaN         S\n",
              "1              2         1       1  ...  71.2833   C85         C\n",
              "2              3         1       3  ...   7.9250   NaN         S\n",
              "3              4         1       1  ...  53.1000  C123         S\n",
              "4              5         0       3  ...   8.0500   NaN         S\n",
              "..           ...       ...     ...  ...      ...   ...       ...\n",
              "886          887         0       2  ...  13.0000   NaN         S\n",
              "887          888         1       1  ...  30.0000   B42         S\n",
              "888          889         0       3  ...  23.4500   NaN         S\n",
              "889          890         1       1  ...  30.0000  C148         C\n",
              "890          891         0       3  ...   7.7500   NaN         Q\n",
              "\n",
              "[891 rows x 12 columns]"
            ]
          },
          "metadata": {},
          "execution_count": 16
        }
      ]
    },
    {
      "cell_type": "markdown",
      "source": [
        "# 1. 주어진 자료의 인원, 생존자, 사망자는 몇 명인가?"
      ],
      "metadata": {
        "id": "OLh--HzwiZEr"
      }
    },
    {
      "cell_type": "code",
      "source": [
        "df['Survived'].value_counts()  #1생존자 , 0 사망자"
      ],
      "metadata": {
        "colab": {
          "base_uri": "https://localhost:8080/"
        },
        "id": "Pcwf6schaBC7",
        "outputId": "ca9ebbcf-ba42-4ed8-854a-f3fbd6cd038e"
      },
      "execution_count": 21,
      "outputs": [
        {
          "output_type": "execute_result",
          "data": {
            "text/plain": [
              "0    549\n",
              "1    342\n",
              "Name: Survived, dtype: int64"
            ]
          },
          "metadata": {},
          "execution_count": 21
        }
      ]
    },
    {
      "cell_type": "code",
      "source": [
        "#인원\n",
        "count = df['PassengerId'].count()\n",
        "#생존자와 사망자\n",
        "sur_data = df['Survived']\n",
        "print(type(sur_data))\n",
        "svc = sur_data.value_counts()\n",
        "#0은 사망자 1은 생존자\n",
        "print(type(svc)) #series는 인덱스와 value가 있다.\n",
        "sur_data.count()\n",
        "print(f\"인원 : {sur_data.count()}, 사망자수 : {svc.values[0]}, 생존자 수 : {svc.values[1]}\")"
      ],
      "metadata": {
        "colab": {
          "base_uri": "https://localhost:8080/"
        },
        "id": "F9Nvh37lk3sg",
        "outputId": "4b43f0f0-30d5-4474-83ba-15b2d81bc737"
      },
      "execution_count": 38,
      "outputs": [
        {
          "output_type": "stream",
          "name": "stdout",
          "text": [
            "<class 'pandas.core.series.Series'>\n",
            "<class 'pandas.core.series.Series'>\n",
            "인원 : 891, 사망자수 : 549, 생존자 수 : 342\n"
          ]
        }
      ]
    },
    {
      "cell_type": "markdown",
      "source": [
        "\n",
        "2. 생존자와 사망자를 Pie 그래프로 나타내고 생존자와 사망자의 퍼센트를 소수점 2자리까지 나타내시오.\n"
      ],
      "metadata": {
        "id": "HKRXBtwAkJtX"
      }
    },
    {
      "cell_type": "code",
      "source": [
        "labels=[\"dead\" , \"alive\"]\n",
        "plt.pie(svc, labels=labels, autopct=\"%.2f\" )\n",
        "plt.show()"
      ],
      "metadata": {
        "colab": {
          "base_uri": "https://localhost:8080/",
          "height": 248
        },
        "id": "liKAcuwdkbA_",
        "outputId": "ca9e9079-20de-4296-f36c-0fefd2fa75ae"
      },
      "execution_count": 42,
      "outputs": [
        {
          "output_type": "display_data",
          "data": {
            "image/png": "[encoded data removed]",
            "text/plain": [
              "<Figure size 432x288 with 1 Axes>"
            ]
          },
          "metadata": {}
        }
      ]
    },
    {
      "cell_type": "markdown",
      "source": [
        "3. 결측데이터가 있는 컬럼들을 조사하시오."
      ],
      "metadata": {
        "id": "Yn9R2q-AkOQN"
      }
    },
    {
      "cell_type": "code",
      "source": [
        "df.info()"
      ],
      "metadata": {
        "colab": {
          "base_uri": "https://localhost:8080/"
        },
        "id": "abLXhLp3kbWq",
        "outputId": "b36247ac-1575-4046-96c0-b039a62c3c8e"
      },
      "execution_count": 32,
      "outputs": [
        {
          "output_type": "stream",
          "name": "stdout",
          "text": [
            "<class 'pandas.core.frame.DataFrame'>\n",
            "RangeIndex: 891 entries, 0 to 890\n",
            "Data columns (total 12 columns):\n",
            " #   Column       Non-Null Count  Dtype  \n",
            "---  ------       --------------  -----  \n",
            " 0   PassengerId  891 non-null    int64  \n",
            " 1   Survived     891 non-null    int64  \n",
            " 2   Pclass       891 non-null    int64  \n",
            " 3   Name         891 non-null    object \n",
            " 4   Sex          891 non-null    object \n",
            " 5   Age          714 non-null    float64\n",
            " 6   SibSp        891 non-null    int64  \n",
            " 7   Parch        891 non-null    int64  \n",
            " 8   Ticket       891 non-null    object \n",
            " 9   Fare         891 non-null    float64\n",
            " 10  Cabin        204 non-null    object \n",
            " 11  Embarked     889 non-null    object \n",
            "dtypes: float64(2), int64(5), object(5)\n",
            "memory usage: 83.7+ KB\n"
          ]
        }
      ]
    },
    {
      "cell_type": "code",
      "source": [
        "df['Age'].isnull().value_counts()"
      ],
      "metadata": {
        "colab": {
          "base_uri": "https://localhost:8080/"
        },
        "id": "RzXkluelmC_3",
        "outputId": "c7b31b66-cde3-4d22-8465-a30ac21bdcc3"
      },
      "execution_count": 33,
      "outputs": [
        {
          "output_type": "execute_result",
          "data": {
            "text/plain": [
              "False    714\n",
              "True     177\n",
              "Name: Age, dtype: int64"
            ]
          },
          "metadata": {},
          "execution_count": 33
        }
      ]
    },
    {
      "cell_type": "code",
      "source": [
        "df['Cabin'].isnull().value_counts()"
      ],
      "metadata": {
        "colab": {
          "base_uri": "https://localhost:8080/"
        },
        "id": "znTGUCPumJIs",
        "outputId": "e72d461d-a1c6-46b0-d092-29f9802414d1"
      },
      "execution_count": 34,
      "outputs": [
        {
          "output_type": "execute_result",
          "data": {
            "text/plain": [
              "True     687\n",
              "False    204\n",
              "Name: Cabin, dtype: int64"
            ]
          },
          "metadata": {},
          "execution_count": 34
        }
      ]
    },
    {
      "cell_type": "code",
      "source": [
        "df['Embarked'].isnull().value_counts()"
      ],
      "metadata": {
        "colab": {
          "base_uri": "https://localhost:8080/"
        },
        "id": "cmxUi_0AmO_b",
        "outputId": "87c356b7-3771-42b0-c6b1-ae17ac7240c1"
      },
      "execution_count": 36,
      "outputs": [
        {
          "output_type": "execute_result",
          "data": {
            "text/plain": [
              "False    889\n",
              "True       2\n",
              "Name: Embarked, dtype: int64"
            ]
          },
          "metadata": {},
          "execution_count": 36
        }
      ]
    },
    {
      "cell_type": "markdown",
      "source": [
        "4. Pclass의 종류별로 분포를 Pie 그래프로 나타내시오."
      ],
      "metadata": {
        "id": "Av4xnV2zkOVC"
      }
    },
    {
      "cell_type": "code",
      "source": [
        " #df['Pclass'] \n",
        "dvc = df.Pclass.value_counts().sort_index()\n",
        "plt.pie(dvc.values , labels=['1','2','3'] ,autopct=\"%.2f\")\n",
        "plt.title(\"Pclass\")\n",
        "plt.show()"
      ],
      "metadata": {
        "colab": {
          "base_uri": "https://localhost:8080/",
          "height": 264
        },
        "id": "MdSNzL7bkbxi",
        "outputId": "e4ea64e1-a241-43ac-aef1-abdafe17a6b0"
      },
      "execution_count": 48,
      "outputs": [
        {
          "output_type": "display_data",
          "data": {
            "image/png": "[encoded data removed]",
            "text/plain": [
              "<Figure size 432x288 with 1 Axes>"
            ]
          },
          "metadata": {}
        }
      ]
    },
    {
      "cell_type": "markdown",
      "source": [
        "5. Pclass의 종류별로 생존자와 사망자를 하나의 막대그래프로 나타내시오.(아래:생존자, 위:사망자)"
      ],
      "metadata": {
        "id": "mpFLmHtLkOXR"
      }
    },
    {
      "cell_type": "code",
      "source": [
        "pdata = df.Pclass\n",
        "cn = len(pdata.unique())\n",
        "pc_alive_arr = np.zeros(cn)\n",
        "pc_dead_arr = np.zeros(cn)\n",
        "\n",
        "for index in range(len(pdata)):\n",
        "  pi = pdata[index]-1 # Pclass는 1,2,3인데 이를 0,1,2로 변환 \n",
        "  if sur_data[index]==0: #죽은 승객일 때\n",
        "    pc_dead_arr[pi] +=1\n",
        "  else: #생존\n",
        "    pc_alive_arr[pi] +=1\n",
        "\n",
        "pc_alive_arr, pc_dead_arr  #클래스1,2,3 별로 살아있는 ... (array([136.,  87., 119.]), array([ 80.,  97., 372.]))\n",
        "\n",
        "labels=['1','2','3']\n",
        "plt.bar(labels,pc_alive_arr)\n",
        "plt.bar(labels,pc_dead_arr , bottom=pc_alive_arr)\n",
        "\n",
        "for i in range(cn):\n",
        "  plt.annotate(str(pc_alive_arr[i]) ,(-0.1+i,40))\n",
        "  plt.annotate(str(pc_alive_arr[i]) ,(-0.1+i,pc_alive_arr[i]+30))\n",
        "\n",
        "\n",
        "plt.show()\n",
        "\n"
      ],
      "metadata": {
        "colab": {
          "base_uri": "https://localhost:8080/",
          "height": 265
        },
        "id": "1UniWfdDkcJC",
        "outputId": "590706d8-c1c7-4442-aef6-da1b777a6636"
      },
      "execution_count": 54,
      "outputs": [
        {
          "output_type": "display_data",
          "data": {
            "image/png": "[encoded data removed]",
            "text/plain": [
              "<Figure size 432x288 with 1 Axes>"
            ]
          },
          "metadata": {
            "needs_background": "light"
          }
        }
      ]
    },
    {
      "cell_type": "markdown",
      "source": [
        "6. Name 컬럼에 탑승자를 부르는 호칭을 Mr, Mrs, Miss, Master, Dr, ETC로 나누어 분포를 파이 그래프로 나타내시오."
      ],
      "metadata": {
        "id": "_PaIpklvkOZn"
      }
    },
    {
      "cell_type": "code",
      "source": [
        "df.Name\n",
        "names_values=['Mr', 'Mrs', 'Miss', 'Master', 'Dr', 'ETC']\n",
        "#names_values 중에 몇 번째 것인지 판별하는 함수\n",
        "def get_name_index(name):\n",
        "  first, second= name.split(',')#,를 기준으로 앞뒤로 분리시켜서 뒤쪽 데이터만 사용\n",
        "  foos = second.split('.' )#뒤의 데이터 중에서도 .을 기준으로 분리, 그런데 .이 있지 않은 것도 있어서 컬렉션을 받고\n",
        "  tn = foos[0].replace(' ','') #공백을 없앤다.\n",
        "  for index, nv in enumerate(names_values): #names_values\n",
        "    if nv == tn:\n",
        "      return index  \n",
        "  return 5\n",
        "\n",
        "#ni=get_name_index(df.Name[1])  잘 작동하는지 확인\n",
        "#print(f\"{df.Name[1]} : {names_values[ni]}\")\n",
        "\n",
        "n_cnts = np.zeros(6) #names_values 길이만큼을 원소값0 array로 만들기\n",
        "for i, name in enumerate(df.Name):\n",
        "  ni = get_name_index(name)\n",
        "  n_cnts[ni] +=1\n",
        "#print(n_cnts)\n",
        "\n",
        "plt.pie(n_cnts, labels=names_values, autopct=\"%.2f %%\")\n",
        "plt.title(\"Name\")\n",
        "plt.show()"
      ],
      "metadata": {
        "colab": {
          "base_uri": "https://localhost:8080/",
          "height": 264
        },
        "id": "Bri60qt9kchq",
        "outputId": "837ca8a1-c616-4321-b949-e8665994999d"
      },
      "execution_count": 67,
      "outputs": [
        {
          "output_type": "display_data",
          "data": {
            "image/png": "[encoded data removed]",
            "text/plain": [
              "<Figure size 432x288 with 1 Axes>"
            ]
          },
          "metadata": {}
        }
      ]
    },
    {
      "cell_type": "markdown",
      "source": [
        "7. 앞에서 구분한 호칭에 따른 생존자와 사망자를 하나의 막대그래프로 나타내시오.(아래:생존자, 위:사망자)\n"
      ],
      "metadata": {
        "id": "I6OgV49hkOcA"
      }
    },
    {
      "cell_type": "code",
      "source": [
        "pn_alive_arr = np.zeros(6)\n",
        "pn_dead_arr = np.zeros(6)\n",
        "for i,name in enumerate(df.Name):\n",
        "  ni = get_name_index(name)\n",
        "  if sur_data[i]==0:\n",
        "    pn_dead_arr[ni]+=1\n",
        "  else:\n",
        "    pn_alive_arr[ni]+=1\n",
        "plt.bar(names_values, pn_alive_arr)\n",
        "plt.bar(names_values, pn_dead_arr, bottom = pn_alive_arr)\n",
        "for i in range(6):\n",
        "  plt.annotate(str(pn_alive_arr[i]),(-0.1+i,40))\n",
        "  if pn_alive_arr[i]<40:\n",
        "    plt.annotate(str(pn_dead_arr[i]),(-0.1+i, pn_alive_arr[i]+80))\n",
        "  else:\n",
        "    plt.annotate(str(pn_dead_arr[i]),(-0.1+i, pn_alive_arr[i]+80))\n",
        "plt.show()"
      ],
      "metadata": {
        "colab": {
          "base_uri": "https://localhost:8080/",
          "height": 265
        },
        "id": "lEmxRooykc9o",
        "outputId": "138beaaf-01f5-4d7e-b6cd-732cc3a21150"
      },
      "execution_count": 77,
      "outputs": [
        {
          "output_type": "display_data",
          "data": {
            "image/png": "[encoded data removed]",
            "text/plain": [
              "<Figure size 432x288 with 1 Axes>"
            ]
          },
          "metadata": {
            "needs_background": "light"
          }
        }
      ]
    },
    {
      "cell_type": "markdown",
      "source": [
        "\n",
        "8. 성별로 분포를 파이 그래프로 나타내시오."
      ],
      "metadata": {
        "id": "7lMY2mo_kOeI"
      }
    },
    {
      "cell_type": "code",
      "source": [
        "dvc = df.Sex.value_counts().sort_index()\n",
        "plt.pie(dvc.values , labels=['female','man'] ,autopct=\"%.2f\")\n",
        "plt.title(\"sex\")\n",
        "plt.show()  #0남자 "
      ],
      "metadata": {
        "colab": {
          "base_uri": "https://localhost:8080/",
          "height": 264
        },
        "id": "oHeY_SW2kddS",
        "outputId": "9aec17c5-f565-4534-9a27-81fbad095116"
      },
      "execution_count": 81,
      "outputs": [
        {
          "output_type": "display_data",
          "data": {
            "image/png": "[encoded data removed]",
            "text/plain": [
              "<Figure size 432x288 with 1 Axes>"
            ]
          },
          "metadata": {}
        }
      ]
    },
    {
      "cell_type": "markdown",
      "source": [
        "9. 성별에 따른 생존자와 사망자를 하나의 막대그래프로 나타내시오.(아래:생존자, 위:사망자)"
      ],
      "metadata": {
        "id": "ocYuYxu1kOga"
      }
    },
    {
      "cell_type": "code",
      "source": [
        "sdata = df.Sex\n",
        "sn = len(sdata.unique())\n",
        "ps_alive_arr = np.zeros(sn)\n",
        "ps_dead_arr = np.zeros(sn)\n",
        "\n",
        "for index in range(len(sdata)):\n",
        "  if sdata[index] =='female':\n",
        "    si =0\n",
        "  else:\n",
        "    si =1\n",
        "  if sur_data[index] ==0: #죽은 승객일때\n",
        "    ps_dead_arr[si]+=1\n",
        "  else:\n",
        "    ps_alive_arr[si]+=1 \n",
        "\n",
        "labels=['female','male']\n",
        "plt.bar(labels,ps_alive_arr)\n",
        "plt.bar(labels,ps_dead_arr , bottom=ps_alive_arr)\n",
        "\n",
        "for i in range(sn):\n",
        "  plt.annotate(str(ps_alive_arr[i]) ,(-0.1+i,40))\n",
        "  plt.annotate(str(ps_dead_arr[i]) ,(-0.1+i,ps_alive_arr[i]+30))\n",
        "\n",
        "\n",
        "plt.show()\n",
        "\n"
      ],
      "metadata": {
        "colab": {
          "base_uri": "https://localhost:8080/",
          "height": 267
        },
        "id": "GlYRL3WOkd4a",
        "outputId": "7b1924a0-7e86-4db3-c710-9c6b55dff3a8"
      },
      "execution_count": 91,
      "outputs": [
        {
          "output_type": "display_data",
          "data": {
            "image/png": "[encoded data removed]",
            "text/plain": [
              "<Figure size 432x288 with 1 Axes>"
            ]
          },
          "metadata": {
            "needs_background": "light"
          }
        }
      ]
    },
    {
      "cell_type": "markdown",
      "source": [
        "10. 나이를 5살 범위로 17단계로(0~5, 5~10,...,80~85)로 나누어 분포를 조사하여 파이 그래프로 나타내시오.(결측값은 평균나이로 처리하시오.)"
      ],
      "metadata": {
        "id": "XUK00Ps6kOiu"
      }
    },
    {
      "cell_type": "code",
      "source": [
        "mv = df.Age.mean() #평균\n",
        "ad = df.Age.fillna(mv) #결측치를 수정\n",
        "ad.isnull().value_counts() #확인"
      ],
      "metadata": {
        "colab": {
          "base_uri": "https://localhost:8080/"
        },
        "id": "H6spP5kpkZ5n",
        "outputId": "8be7f805-631b-4103-8472-a1a5d1c8cfff"
      },
      "execution_count": 95,
      "outputs": [
        {
          "output_type": "execute_result",
          "data": {
            "text/plain": [
              "False    891\n",
              "Name: Age, dtype: int64"
            ]
          },
          "metadata": {},
          "execution_count": 95
        }
      ]
    },
    {
      "cell_type": "code",
      "source": [
        "n, bins, patches = plt.hist(ad,bins =[0,5,10,15,20,25,30,35,40,45,50,55,60,65,70,75,80,85])\n",
        "plt.show()\n",
        "n"
      ],
      "metadata": {
        "colab": {
          "base_uri": "https://localhost:8080/",
          "height": 302
        },
        "id": "XuaBvWpkf3lc",
        "outputId": "9b3b587f-fb73-45e3-eae1-ec6c1d9e528f"
      },
      "execution_count": 101,
      "outputs": [
        {
          "output_type": "display_data",
          "data": {
            "image/png": "[encoded data removed]",
            "text/plain": [
              "<Figure size 432x288 with 1 Axes>"
            ]
          },
          "metadata": {
            "needs_background": "light"
          }
        },
        {
          "output_type": "execute_result",
          "data": {
            "text/plain": [
              "array([ 40.,  22.,  16.,  86., 114., 283.,  95.,  72.,  48.,  41.,  32.,\n",
              "        16.,  15.,   4.,   6.,   0.,   1.])"
            ]
          },
          "metadata": {},
          "execution_count": 101
        }
      ]
    },
    {
      "cell_type": "code",
      "source": [
        "age_values = np.zeros(17)\n",
        "for i, age in enumerate(ad):\n",
        "  ai =  age//5\n",
        "  ai = int(ai)\n",
        "  age_values[ai] +=1\n",
        "age_values"
      ],
      "metadata": {
        "colab": {
          "base_uri": "https://localhost:8080/"
        },
        "id": "b-ZOFrfzg-kp",
        "outputId": "141733bc-551e-47da-f22f-4dde3eb6d3e5"
      },
      "execution_count": 102,
      "outputs": [
        {
          "output_type": "execute_result",
          "data": {
            "text/plain": [
              "array([ 40.,  22.,  16.,  86., 114., 283.,  95.,  72.,  48.,  41.,  32.,\n",
              "        16.,  15.,   4.,   6.,   0.,   1.])"
            ]
          },
          "metadata": {},
          "execution_count": 102
        }
      ]
    },
    {
      "cell_type": "code",
      "source": [
        "plt.pie(age_values ,labels=['0','5','10','15','20','25','30','35','40','45','50','55','60','65','70','75','80'])\n",
        "plt.show()"
      ],
      "metadata": {
        "colab": {
          "base_uri": "https://localhost:8080/",
          "height": 248
        },
        "id": "yB4ugSJPiFtk",
        "outputId": "b0148704-b5eb-48b6-cd6e-c3c41024040e"
      },
      "execution_count": 103,
      "outputs": [
        {
          "output_type": "display_data",
          "data": {
            "image/png": "[encoded data removed]",
            "text/plain": [
              "<Figure size 432x288 with 1 Axes>"
            ]
          },
          "metadata": {}
        }
      ]
    },
    {
      "cell_type": "markdown",
      "source": [
        "11. 나이를 구분한 단계에 따른 생존자와 사망자를 하나의 막대그래프로 나타내시오.(아래:생존자, 위:사망자)"
      ],
      "metadata": {
        "id": "mBJCA0t_kaHK"
      }
    },
    {
      "cell_type": "code",
      "source": [
        "ps_alive_arr = np.zeros(17)\n",
        "ps_dead_arr = np.zeros(17)\n",
        "for index in range(len(ad)):\n",
        "  ai = ad[index]//5\n",
        "  ai = int(ai)\n",
        "  \n",
        "  if sur_data[index]==0: #죽은 승객일 때\n",
        "    ps_dead_arr[ai]+=1\n",
        "  else: #생존 승객일 때\n",
        "    ps_alive_arr[ai]+=1\n",
        "\n",
        "labels=['0','5','10','15','20','25','30','35','40','45','50','55','60','65','70','75','80']\n",
        "plt.bar(labels,ps_alive_arr)\n",
        "plt.bar(labels,ps_dead_arr,bottom=ps_alive_arr)\n",
        "plt.show()\n",
        "for i in range(17):\n",
        "  print(f\"{i*5:02d}  ~ {(i+1)*5:-02d}:  {age_values[i]:03.0f}\")\n",
        "\n",
        "\n",
        "plt.show()\n"
      ],
      "metadata": {
        "colab": {
          "base_uri": "https://localhost:8080/",
          "height": 577
        },
        "id": "mlkxmtbykLdq",
        "outputId": "e170fa38-9185-4055-92cf-2629c5679dce"
      },
      "execution_count": 105,
      "outputs": [
        {
          "output_type": "display_data",
          "data": {
            "image/png": "[encoded data removed]",
            "text/plain": [
              "<Figure size 432x288 with 1 Axes>"
            ]
          },
          "metadata": {
            "needs_background": "light"
          }
        },
        {
          "output_type": "stream",
          "name": "stdout",
          "text": [
            "00  ~ 05:  040\n",
            "05  ~ 10:  022\n",
            "10  ~ 15:  016\n",
            "15  ~ 20:  086\n",
            "20  ~ 25:  114\n",
            "25  ~ 30:  283\n",
            "30  ~ 35:  095\n",
            "35  ~ 40:  072\n",
            "40  ~ 45:  048\n",
            "45  ~ 50:  041\n",
            "50  ~ 55:  032\n",
            "55  ~ 60:  016\n",
            "60  ~ 65:  015\n",
            "65  ~ 70:  004\n",
            "70  ~ 75:  006\n",
            "75  ~ 80:  000\n",
            "80  ~ 85:  001\n"
          ]
        }
      ]
    },
    {
      "cell_type": "markdown",
      "source": [
        "12. SibSp 컬럼의 값의 종류에 따른 분포를 조사하여 파이 그래프로 나타내시오."
      ],
      "metadata": {
        "id": "035L4LSPkhx_"
      }
    },
    {
      "cell_type": "code",
      "source": [
        "svc = df.SibSp.value_counts().sort_index()\n",
        "plt.pie(svc.values , labels=svc, autopct=\"%.2f\")\n",
        "plt.title(\"SibSp\")\n",
        "plt.show()"
      ],
      "metadata": {
        "colab": {
          "base_uri": "https://localhost:8080/",
          "height": 264
        },
        "id": "r699Vsg2iZ_3",
        "outputId": "d675bd53-922f-4962-90c1-5f5c3b41c7c6"
      },
      "execution_count": 107,
      "outputs": [
        {
          "output_type": "display_data",
          "data": {
            "image/png": "[encoded data removed]",
            "text/plain": [
              "<Figure size 432x288 with 1 Axes>"
            ]
          },
          "metadata": {}
        }
      ]
    },
    {
      "cell_type": "markdown",
      "source": [
        ""
      ],
      "metadata": {
        "id": "9GipN1fitl5t"
      }
    },
    {
      "cell_type": "markdown",
      "source": [
        "13. 값에 따른 생존자와 사망자를 하나의 막대그래프로 나타내시오.(아래:생존자, 위:사망자)"
      ],
      "metadata": {
        "id": "krWwS1-UkjvY"
      }
    },
    {
      "cell_type": "code",
      "source": [
        "sdata = df.SibSp\n",
        "sn = 9 #형제 자매 수를 인덱스로 사용하기 위해서 0~8개까지 9개를 사용 \n",
        "sc_alive_arr = np.zeros(sn)\n",
        "sc_dead_arr = np.zeros(sn)\n",
        "\n",
        "for index in range(len(sdata)):\n",
        "  si = sdata[index] #형제 자매수를 얻어온다.\n",
        "  if sur_data[index] ==0: #죽은 승객일때\n",
        "    sc_dead_arr[si]+=1\n",
        "  else:\n",
        "    sc_alive_arr[si]+=1 \n",
        "\n",
        "labels=[str(i) for i in range(9)]\n",
        "plt.bar(labels,sc_alive_arr)\n",
        "plt.bar(labels,sc_dead_arr , bottom=sc_alive_arr)\n",
        "\n",
        "for i in range(sn):\n",
        "  plt.annotate(str(sc_alive_arr[i]) ,(-0.2+i,40))\n",
        "  if sc_alive_arr[i] <40:\n",
        "     plt.annotate(str(sc_dead_arr[i]) ,(-0.2+i,sc_alive_arr[i]+80))\n",
        "  else:\n",
        "    plt.annotate(str(sc_dead_arr[i]) ,(-0.2+i,sc_alive_arr[i]+30))\n",
        "\n",
        "\n",
        "plt.show()\n",
        "\n"
      ],
      "metadata": {
        "colab": {
          "base_uri": "https://localhost:8080/",
          "height": 265
        },
        "id": "rNWcPvyZaBFF",
        "outputId": "f8710804-b6b2-4849-c505-7a976cbddd27"
      },
      "execution_count": 109,
      "outputs": [
        {
          "output_type": "display_data",
          "data": {
            "image/png": "[encoded data removed]",
            "text/plain": [
              "<Figure size 432x288 with 1 Axes>"
            ]
          },
          "metadata": {
            "needs_background": "light"
          }
        }
      ]
    },
    {
      "cell_type": "markdown",
      "source": [
        "14. Parch 컬럼의 값의 종류에 따른 분포를 조사하여 파이 그래프로 나타내시오.\n"
      ],
      "metadata": {
        "id": "iWs0A9Yjkllg"
      }
    },
    {
      "cell_type": "code",
      "source": [
        ""
      ],
      "metadata": {
        "id": "mPPx_qxKKYMK"
      },
      "execution_count": null,
      "outputs": []
    },
    {
      "cell_type": "markdown",
      "source": [
        "15. 값에 따른 생존자와 사망자를 하나의 막대그래프로 나타내시오.(아래:생존자, 위:사망자)"
      ],
      "metadata": {
        "id": "NAgwlNOnknac"
      }
    },
    {
      "cell_type": "code",
      "source": [
        ""
      ],
      "metadata": {
        "id": "M_4C9HwQZh6V"
      },
      "execution_count": null,
      "outputs": []
    },
    {
      "cell_type": "markdown",
      "source": [
        "\n",
        "16. 승선한 항구(Embarked 컬럼)에 따른 분포를 조사하여 파이 그래프로 나타내시오.(결측값은 'N'으로 마킹하시오.)"
      ],
      "metadata": {
        "id": "PdaNFCQykpCs"
      }
    },
    {
      "cell_type": "code",
      "source": [
        ""
      ],
      "metadata": {
        "id": "qb3a2gQeZh80"
      },
      "execution_count": null,
      "outputs": []
    },
    {
      "cell_type": "markdown",
      "source": [
        "17. 값에 따른 생존자와 사망자를 하나의 막대그래프로 나타내시오.(아래:생존자, 위:사망자)"
      ],
      "metadata": {
        "id": "r50J84V3kqo-"
      }
    },
    {
      "cell_type": "code",
      "source": [
        ""
      ],
      "metadata": {
        "id": "Xgcv44tvZiC0"
      },
      "execution_count": null,
      "outputs": []
    },
    {
      "cell_type": "code",
      "source": [
        ""
      ],
      "metadata": {
        "id": "Z_zdG_HdOZKK"
      },
      "execution_count": null,
      "outputs": []
    },
    {
      "cell_type": "code",
      "source": [
        "from bs4 import BeautifulSoup\n",
        "url = 'https://ehpub.co.kr'\n",
        "response = urllib.request.urlopen(url) #웹 서버에 요청\n",
        "res = response.read().decode('utf-8')\n",
        "bre = BeautifulSoup(res,'html.parser')\n",
        "\n",
        "\n",
        "wc = WordCloud(font_path = '/usr/share/fonts/truetype/nanum/NanumBarunGothic.ttf')\n",
        "wc.generate(bre.body.text)\n",
        "plt.figure()\n",
        "plt.imshow(wc)\n",
        "plt.axis('off')\n",
        "plt.show()\n",
        "wc.words_"
      ],
      "metadata": {
        "colab": {
          "base_uri": "https://localhost:8080/",
          "height": 1000
        },
        "id": "ERizBZeAOZMW",
        "outputId": "954e6635-e2b8-49fc-d268-911e7c258c67"
      },
      "execution_count": 79,
      "outputs": [
        {
          "output_type": "display_data",
          "data": {
            "image/png": "[encoded data removed]",
            "text/plain": [
              "<Figure size 432x288 with 1 Axes>"
            ]
          },
          "metadata": {
            "needs_background": "light"
          }
        },
        {
          "output_type": "execute_result",
          "data": {
            "text/plain": [
              "{'62205097ca8ae': 0.07142857142857142,\n",
              " 'ADO': 0.14285714285714285,\n",
              " 'API': 0.14285714285714285,\n",
              " 'CDATA': 0.07142857142857142,\n",
              " 'Colab': 0.14285714285714285,\n",
              " 'C언어': 1.0,\n",
              " 'Escort': 0.35714285714285715,\n",
              " 'Go': 0.14285714285714285,\n",
              " 'GoF의': 0.14285714285714285,\n",
              " 'HTML5': 0.14285714285714285,\n",
              " 'IP 프로토콜': 0.2857142857142857,\n",
              " 'Java': 0.2857142857142857,\n",
              " 'ML': 0.14285714285714285,\n",
              " 'MS': 0.07142857142857142,\n",
              " 'MSSQL과': 0.07142857142857142,\n",
              " 'NET': 0.42857142857142855,\n",
              " 'OpenCV': 0.14285714285714285,\n",
              " 'Part1': 0.07142857142857142,\n",
              " 'Part2': 0.14285714285714285,\n",
              " 'SQL과': 0.07142857142857142,\n",
              " 'Skip': 0.07142857142857142,\n",
              " 'TCP IP': 0.42857142857142855,\n",
              " 'UI 자동화': 0.21428571428571427,\n",
              " 'WPF': 0.14285714285714285,\n",
              " 'Wafer': 0.14285714285714285,\n",
              " 'Windows': 0.14285714285714285,\n",
              " 'Windows Form': 0.2857142857142857,\n",
              " 'W접근성': 0.07142857142857142,\n",
              " 'XML': 0.14285714285714285,\n",
              " 'admin': 0.2857142857142857,\n",
              " 'ajax': 0.07142857142857142,\n",
              " 'alax_url': 0.07142857142857142,\n",
              " 'co kr': 0.21428571428571427,\n",
              " 'content': 0.14285714285714285,\n",
              " 'ehpub co': 0.21428571428571427,\n",
              " 'email': 0.07142857142857142,\n",
              " 'facebook': 0.07142857142857142,\n",
              " 'https ehpub': 0.21428571428571427,\n",
              " 'kboard': 0.14285714285714285,\n",
              " 'kboard_add_media': 0.07142857142857142,\n",
              " 'kboard_localize_strings': 0.07142857142857142,\n",
              " 'kboard_settings': 0.07142857142857142,\n",
              " 'kr wp': 0.21428571428571427,\n",
              " 'media_group': 0.07142857142857142,\n",
              " 'next': 0.07142857142857142,\n",
              " 'php': 0.14285714285714285,\n",
              " 'please_enter_the_author': 0.07142857142857142,\n",
              " 'please_enter_the_title': 0.07142857142857142,\n",
              " 'plugin_url': 0.07142857142857142,\n",
              " 'plugins': 0.07142857142857142,\n",
              " 'post': 0.07142857142857142,\n",
              " 'post_url': 0.07142857142857142,\n",
              " 'prev': 0.07142857142857142,\n",
              " 'python': 0.42857142857142855,\n",
              " 'uac00': 0.07142857142857142,\n",
              " 'uae30': 0.14285714285714285,\n",
              " 'ub2e4': 0.21428571428571427,\n",
              " 'ub514': 0.07142857142857142,\n",
              " 'ub825 ud574': 0.2857142857142857,\n",
              " 'ub97c uc785': 0.21428571428571427,\n",
              " 'ubaa9': 0.07142857142857142,\n",
              " 'ubbf8': 0.14285714285714285,\n",
              " 'ubcf4': 0.14285714285714285,\n",
              " 'uc138 uc694': 0.35714285714285715,\n",
              " 'uc21c': 0.21428571428571427,\n",
              " 'uc5b4': 0.07142857142857142,\n",
              " 'uc744': 0.07142857142857142,\n",
              " 'uc74c': 0.07142857142857142,\n",
              " 'uc774': 0.2857142857142857,\n",
              " 'uc785 ub825': 0.2857142857142857,\n",
              " 'uc791': 0.07142857142857142,\n",
              " 'uc804': 0.07142857142857142,\n",
              " 'uc81c': 0.07142857142857142,\n",
              " 'uc8fc uc138': 0.35714285714285715,\n",
              " 'ucd94': 0.07142857142857142,\n",
              " 'ud574 uc8fc': 0.2857142857142857,\n",
              " 'var': 0.14285714285714285,\n",
              " 'youtube': 0.07142857142857142,\n",
              " '가능합니다': 0.07142857142857142,\n",
              " '가이드': 0.2857142857142857,\n",
              " '가입': 0.14285714285714285,\n",
              " '강의': 0.07142857142857142,\n",
              " '개발': 0.14285714285714285,\n",
              " '검색': 0.2857142857142857,\n",
              " '계산기': 0.14285714285714285,\n",
              " '공정': 0.14285714285714285,\n",
              " '공지': 0.14285714285714285,\n",
              " '공학': 0.14285714285714285,\n",
              " '구글': 0.14285714285714285,\n",
              " '구조': 0.14285714285714285,\n",
              " '궁금한': 0.07142857142857142,\n",
              " '글은': 0.07142857142857142,\n",
              " '기술': 0.2857142857142857,\n",
              " '기타': 0.07142857142857142,\n",
              " '네트워크': 0.2857142857142857,\n",
              " '다지는': 0.07142857142857142,\n",
              " '데이터': 0.21428571428571427,\n",
              " '데이터베이스': 0.14285714285714285,\n",
              " '데이터분석': 0.35714285714285715,\n",
              " '동강': 0.42857142857142855,\n",
              " '동영': 0.07142857142857142,\n",
              " '동영상': 0.07142857142857142,\n",
              " '디딤돌': 0.6428571428571429,\n",
              " '디자인': 0.14285714285714285,\n",
              " '라이브러리': 0.14285714285714285,\n",
              " '러닝': 0.14285714285714285,\n",
              " '리눅스': 0.2857142857142857,\n",
              " '링크': 0.07142857142857142,\n",
              " '만들기': 0.21428571428571427,\n",
              " '머신': 0.14285714285714285,\n",
              " '머신러닝': 0.14285714285714285,\n",
              " '모든': 0.07142857142857142,\n",
              " '무단': 0.07142857142857142,\n",
              " '미디': 0.14285714285714285,\n",
              " '미래실험실': 0.14285714285714285,\n",
              " '바랍니다': 0.07142857142857142,\n",
              " '밝힌': 0.07142857142857142,\n",
              " '방문': 0.07142857142857142,\n",
              " '배우는': 0.14285714285714285,\n",
              " '배포': 0.07142857142857142,\n",
              " '분석': 0.35714285714285715,\n",
              " '분석기': 0.14285714285714285,\n",
              " '불허합니다': 0.07142857142857142,\n",
              " '빅데이터': 0.2857142857142857,\n",
              " '빅데이터를': 0.14285714285714285,\n",
              " '사용을': 0.07142857142857142,\n",
              " '사이트의': 0.07142857142857142,\n",
              " '사항': 0.07142857142857142,\n",
              " '사항은': 0.07142857142857142,\n",
              " '상업적': 0.07142857142857142,\n",
              " '서비스': 0.14285714285714285,\n",
              " '설계': 0.07142857142857142,\n",
              " '설치': 0.14285714285714285,\n",
              " '소스': 0.5,\n",
              " '소유입니다': 0.07142857142857142,\n",
              " '소켓': 0.14285714285714285,\n",
              " '소프트웨어': 0.21428571428571427,\n",
              " '시뮬레이션': 0.14285714285714285,\n",
              " '시스템': 0.14285714285714285,\n",
              " '실습': 0.14285714285714285,\n",
              " '실습으로': 0.07142857142857142,\n",
              " '안드로이드': 0.14285714285714285,\n",
              " '알고리즘': 0.5,\n",
              " '언어': 0.35714285714285715,\n",
              " '언제나': 0.35714285714285715,\n",
              " '언제나 휴일': 0.6428571428571429,\n",
              " '언휴의': 0.14285714285714285,\n",
              " '엑셀로': 0.14285714285714285,\n",
              " '엔진': 0.14285714285714285,\n",
              " '예제': 0.21428571428571427,\n",
              " '오늘도': 0.07142857142857142,\n",
              " '와이어샤크': 0.14285714285714285,\n",
              " '운영체제': 0.14285714285714285,\n",
              " '워드': 0.07142857142857142,\n",
              " '워드프레스': 0.07142857142857142,\n",
              " '원격': 0.14285714285714285,\n",
              " '윈도우즈': 0.14285714285714285,\n",
              " '유닉스': 0.14285714285714285,\n",
              " '유튜브': 0.07142857142857142,\n",
              " '유틸': 0.14285714285714285,\n",
              " '응용': 0.14285714285714285,\n",
              " '이용하시기': 0.07142857142857142,\n",
              " '입문': 0.07142857142857142,\n",
              " '자료구조': 0.21428571428571427,\n",
              " '자료구조와': 0.14285714285714285,\n",
              " '접근성': 0.07142857142857142,\n",
              " '정보처리': 0.14285714285714285,\n",
              " '정보처리기사 필기': 0.35714285714285715,\n",
              " '제어': 0.14285714285714285,\n",
              " '즐거운': 0.07142857142857142,\n",
              " '지도': 0.07142857142857142,\n",
              " '지도에': 0.07142857142857142,\n",
              " '지역': 0.14285714285714285,\n",
              " '출처를': 0.07142857142857142,\n",
              " '출판사의': 0.07142857142857142,\n",
              " '카페를': 0.07142857142857142,\n",
              " '코딩테스트': 0.14285714285714285,\n",
              " '코팅': 0.14285714285714285,\n",
              " '테트리스': 0.14285714285714285,\n",
              " '통신': 0.14285714285714285,\n",
              " '파이썬': 0.21428571428571427,\n",
              " '파이썬으로': 0.07142857142857142,\n",
              " '패킷': 0.14285714285714285,\n",
              " '패턴': 0.14285714285714285,\n",
              " '퍼가기': 0.07142857142857142,\n",
              " '표시': 0.07142857142857142,\n",
              " '표준': 0.14285714285714285,\n",
              " '프레스': 0.07142857142857142,\n",
              " '프로그래머': 0.07142857142857142,\n",
              " '프로그래머홈': 0.07142857142857142,\n",
              " '프로그래밍': 1.0,\n",
              " '프로그램': 0.35714285714285715,\n",
              " '프로젝트': 0.21428571428571427,\n",
              " '하루입니다': 0.07142857142857142,\n",
              " '하자': 0.14285714285714285,\n",
              " '함수': 0.14285714285714285,\n",
              " '활용': 0.14285714285714285,\n",
              " '활용하라': 0.14285714285714285,\n",
              " '후기나': 0.07142857142857142,\n",
              " '후에': 0.07142857142857142}"
            ]
          },
          "metadata": {},
          "execution_count": 79
        }
      ]
    }
  ]
}