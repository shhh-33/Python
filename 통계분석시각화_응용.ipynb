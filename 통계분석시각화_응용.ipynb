{
  "nbformat": 4,
  "nbformat_minor": 0,
  "metadata": {
    "colab": {
      "name": "통계분석시각화-응용.ipynb",
      "provenance": [],
      "authorship_tag": "ABX9TyMs5aQnLGSMd17tRWAN9Js+",
      "include_colab_link": true
    },
    "kernelspec": {
      "name": "python3",
      "display_name": "Python 3"
    },
    "language_info": {
      "name": "python"
    }
  },
  "cells": [
    {
      "cell_type": "markdown",
      "metadata": {
        "id": "view-in-github",
        "colab_type": "text"
      },
      "source": [
        "<a href=\"https://colab.research.google.com/github/shhh-33/sesac-python/blob/shhh/%ED%86%B5%EA%B3%84%EB%B6%84%EC%84%9D%EC%8B%9C%EA%B0%81%ED%99%94_%EC%9D%91%EC%9A%A9.ipynb\" target=\"_parent\"><img src=\"https://colab.research.google.com/assets/colab-badge.svg\" alt=\"Open In Colab\"/></a>"
      ]
    },
    {
      "cell_type": "code",
      "source": [
        "import pandas as pd\n",
        "import numpy as np\n",
        "import matplotlib.pyplot as plt"
      ],
      "metadata": {
        "id": "zKF6RkqKaBAl"
      },
      "execution_count": null,
      "outputs": []
    },
    {
      "cell_type": "code",
      "source": [
        "path = '/content/sample_data/train_titanic.csv'\n",
        "df = pd.read_csv(path)\n",
        "df"
      ],
      "metadata": {
        "colab": {
          "base_uri": "https://localhost:8080/",
          "height": 676
        },
        "id": "3ZooCQPfKYKE",
        "outputId": "617dbb76-ec1f-4d44-e90c-ae4dd63698b4"
      },
      "execution_count": null,
      "outputs": [
        {
          "output_type": "execute_result",
          "data": {
            "text/html": [
              "\n",
              "  <div id=\"df-c1bfbd2f-8b08-4be5-bd27-9b4cd0876db1\">\n",
              "    <div class=\"colab-df-container\">\n",
              "      <div>\n",
              "<style scoped>\n",
              "    .dataframe tbody tr th:only-of-type {\n",
              "        vertical-align: middle;\n",
              "    }\n",
              "\n",
              "    .dataframe tbody tr th {\n",
              "        vertical-align: top;\n",
              "    }\n",
              "\n",
              "    .dataframe thead th {\n",
              "        text-align: right;\n",
              "    }\n",
              "</style>\n",
              "<table border=\"1\" class=\"dataframe\">\n",
              "  <thead>\n",
              "    <tr style=\"text-align: right;\">\n",
              "      <th></th>\n",
              "      <th>PassengerId</th>\n",
              "      <th>Survived</th>\n",
              "      <th>Pclass</th>\n",
              "      <th>Name</th>\n",
              "      <th>Sex</th>\n",
              "      <th>Age</th>\n",
              "      <th>SibSp</th>\n",
              "      <th>Parch</th>\n",
              "      <th>Ticket</th>\n",
              "      <th>Fare</th>\n",
              "      <th>Cabin</th>\n",
              "      <th>Embarked</th>\n",
              "    </tr>\n",
              "  </thead>\n",
              "  <tbody>\n",
              "    <tr>\n",
              "      <th>0</th>\n",
              "      <td>1</td>\n",
              "      <td>0</td>\n",
              "      <td>3</td>\n",
              "      <td>Braund, Mr. Owen Harris</td>\n",
              "      <td>male</td>\n",
              "      <td>22.0</td>\n",
              "      <td>1</td>\n",
              "      <td>0</td>\n",
              "      <td>A/5 21171</td>\n",
              "      <td>7.2500</td>\n",
              "      <td>NaN</td>\n",
              "      <td>S</td>\n",
              "    </tr>\n",
              "    <tr>\n",
              "      <th>1</th>\n",
              "      <td>2</td>\n",
              "      <td>1</td>\n",
              "      <td>1</td>\n",
              "      <td>Cumings, Mrs. John Bradley (Florence Briggs Th...</td>\n",
              "      <td>female</td>\n",
              "      <td>38.0</td>\n",
              "      <td>1</td>\n",
              "      <td>0</td>\n",
              "      <td>PC 17599</td>\n",
              "      <td>71.2833</td>\n",
              "      <td>C85</td>\n",
              "      <td>C</td>\n",
              "    </tr>\n",
              "    <tr>\n",
              "      <th>2</th>\n",
              "      <td>3</td>\n",
              "      <td>1</td>\n",
              "      <td>3</td>\n",
              "      <td>Heikkinen, Miss. Laina</td>\n",
              "      <td>female</td>\n",
              "      <td>26.0</td>\n",
              "      <td>0</td>\n",
              "      <td>0</td>\n",
              "      <td>STON/O2. 3101282</td>\n",
              "      <td>7.9250</td>\n",
              "      <td>NaN</td>\n",
              "      <td>S</td>\n",
              "    </tr>\n",
              "    <tr>\n",
              "      <th>3</th>\n",
              "      <td>4</td>\n",
              "      <td>1</td>\n",
              "      <td>1</td>\n",
              "      <td>Futrelle, Mrs. Jacques Heath (Lily May Peel)</td>\n",
              "      <td>female</td>\n",
              "      <td>35.0</td>\n",
              "      <td>1</td>\n",
              "      <td>0</td>\n",
              "      <td>113803</td>\n",
              "      <td>53.1000</td>\n",
              "      <td>C123</td>\n",
              "      <td>S</td>\n",
              "    </tr>\n",
              "    <tr>\n",
              "      <th>4</th>\n",
              "      <td>5</td>\n",
              "      <td>0</td>\n",
              "      <td>3</td>\n",
              "      <td>Allen, Mr. William Henry</td>\n",
              "      <td>male</td>\n",
              "      <td>35.0</td>\n",
              "      <td>0</td>\n",
              "      <td>0</td>\n",
              "      <td>373450</td>\n",
              "      <td>8.0500</td>\n",
              "      <td>NaN</td>\n",
              "      <td>S</td>\n",
              "    </tr>\n",
              "    <tr>\n",
              "      <th>...</th>\n",
              "      <td>...</td>\n",
              "      <td>...</td>\n",
              "      <td>...</td>\n",
              "      <td>...</td>\n",
              "      <td>...</td>\n",
              "      <td>...</td>\n",
              "      <td>...</td>\n",
              "      <td>...</td>\n",
              "      <td>...</td>\n",
              "      <td>...</td>\n",
              "      <td>...</td>\n",
              "      <td>...</td>\n",
              "    </tr>\n",
              "    <tr>\n",
              "      <th>886</th>\n",
              "      <td>887</td>\n",
              "      <td>0</td>\n",
              "      <td>2</td>\n",
              "      <td>Montvila, Rev. Juozas</td>\n",
              "      <td>male</td>\n",
              "      <td>27.0</td>\n",
              "      <td>0</td>\n",
              "      <td>0</td>\n",
              "      <td>211536</td>\n",
              "      <td>13.0000</td>\n",
              "      <td>NaN</td>\n",
              "      <td>S</td>\n",
              "    </tr>\n",
              "    <tr>\n",
              "      <th>887</th>\n",
              "      <td>888</td>\n",
              "      <td>1</td>\n",
              "      <td>1</td>\n",
              "      <td>Graham, Miss. Margaret Edith</td>\n",
              "      <td>female</td>\n",
              "      <td>19.0</td>\n",
              "      <td>0</td>\n",
              "      <td>0</td>\n",
              "      <td>112053</td>\n",
              "      <td>30.0000</td>\n",
              "      <td>B42</td>\n",
              "      <td>S</td>\n",
              "    </tr>\n",
              "    <tr>\n",
              "      <th>888</th>\n",
              "      <td>889</td>\n",
              "      <td>0</td>\n",
              "      <td>3</td>\n",
              "      <td>Johnston, Miss. Catherine Helen \"Carrie\"</td>\n",
              "      <td>female</td>\n",
              "      <td>NaN</td>\n",
              "      <td>1</td>\n",
              "      <td>2</td>\n",
              "      <td>W./C. 6607</td>\n",
              "      <td>23.4500</td>\n",
              "      <td>NaN</td>\n",
              "      <td>S</td>\n",
              "    </tr>\n",
              "    <tr>\n",
              "      <th>889</th>\n",
              "      <td>890</td>\n",
              "      <td>1</td>\n",
              "      <td>1</td>\n",
              "      <td>Behr, Mr. Karl Howell</td>\n",
              "      <td>male</td>\n",
              "      <td>26.0</td>\n",
              "      <td>0</td>\n",
              "      <td>0</td>\n",
              "      <td>111369</td>\n",
              "      <td>30.0000</td>\n",
              "      <td>C148</td>\n",
              "      <td>C</td>\n",
              "    </tr>\n",
              "    <tr>\n",
              "      <th>890</th>\n",
              "      <td>891</td>\n",
              "      <td>0</td>\n",
              "      <td>3</td>\n",
              "      <td>Dooley, Mr. Patrick</td>\n",
              "      <td>male</td>\n",
              "      <td>32.0</td>\n",
              "      <td>0</td>\n",
              "      <td>0</td>\n",
              "      <td>370376</td>\n",
              "      <td>7.7500</td>\n",
              "      <td>NaN</td>\n",
              "      <td>Q</td>\n",
              "    </tr>\n",
              "  </tbody>\n",
              "</table>\n",
              "<p>891 rows × 12 columns</p>\n",
              "</div>\n",
              "      <button class=\"colab-df-convert\" onclick=\"convertToInteractive('df-c1bfbd2f-8b08-4be5-bd27-9b4cd0876db1')\"\n",
              "              title=\"Convert this dataframe to an interactive table.\"\n",
              "              style=\"display:none;\">\n",
              "        \n",
              "  <svg xmlns=\"http://www.w3.org/2000/svg\" height=\"24px\"viewBox=\"0 0 24 24\"\n",
              "       width=\"24px\">\n",
              "    <path d=\"M0 0h24v24H0V0z\" fill=\"none\"/>\n",
              "    <path d=\"M18.56 5.44l.94 2.06.94-2.06 2.06-.94-2.06-.94-.94-2.06-.94 2.06-2.06.94zm-11 1L8.5 8.5l.94-2.06 2.06-.94-2.06-.94L8.5 2.5l-.94 2.06-2.06.94zm10 10l.94 2.06.94-2.06 2.06-.94-2.06-.94-.94-2.06-.94 2.06-2.06.94z\"/><path d=\"M17.41 7.96l-1.37-1.37c-.4-.4-.92-.59-1.43-.59-.52 0-1.04.2-1.43.59L10.3 9.45l-7.72 7.72c-.78.78-.78 2.05 0 2.83L4 21.41c.39.39.9.59 1.41.59.51 0 1.02-.2 1.41-.59l7.78-7.78 2.81-2.81c.8-.78.8-2.07 0-2.86zM5.41 20L4 18.59l7.72-7.72 1.47 1.35L5.41 20z\"/>\n",
              "  </svg>\n",
              "      </button>\n",
              "      \n",
              "  <style>\n",
              "    .colab-df-container {\n",
              "      display:flex;\n",
              "      flex-wrap:wrap;\n",
              "      gap: 12px;\n",
              "    }\n",
              "\n",
              "    .colab-df-convert {\n",
              "      background-color: #E8F0FE;\n",
              "      border: none;\n",
              "      border-radius: 50%;\n",
              "      cursor: pointer;\n",
              "      display: none;\n",
              "      fill: #1967D2;\n",
              "      height: 32px;\n",
              "      padding: 0 0 0 0;\n",
              "      width: 32px;\n",
              "    }\n",
              "\n",
              "    .colab-df-convert:hover {\n",
              "      background-color: #E2EBFA;\n",
              "      box-shadow: 0px 1px 2px rgba(60, 64, 67, 0.3), 0px 1px 3px 1px rgba(60, 64, 67, 0.15);\n",
              "      fill: #174EA6;\n",
              "    }\n",
              "\n",
              "    [theme=dark] .colab-df-convert {\n",
              "      background-color: #3B4455;\n",
              "      fill: #D2E3FC;\n",
              "    }\n",
              "\n",
              "    [theme=dark] .colab-df-convert:hover {\n",
              "      background-color: #434B5C;\n",
              "      box-shadow: 0px 1px 3px 1px rgba(0, 0, 0, 0.15);\n",
              "      filter: drop-shadow(0px 1px 2px rgba(0, 0, 0, 0.3));\n",
              "      fill: #FFFFFF;\n",
              "    }\n",
              "  </style>\n",
              "\n",
              "      <script>\n",
              "        const buttonEl =\n",
              "          document.querySelector('#df-c1bfbd2f-8b08-4be5-bd27-9b4cd0876db1 button.colab-df-convert');\n",
              "        buttonEl.style.display =\n",
              "          google.colab.kernel.accessAllowed ? 'block' : 'none';\n",
              "\n",
              "        async function convertToInteractive(key) {\n",
              "          const element = document.querySelector('#df-c1bfbd2f-8b08-4be5-bd27-9b4cd0876db1');\n",
              "          const dataTable =\n",
              "            await google.colab.kernel.invokeFunction('convertToInteractive',\n",
              "                                                     [key], {});\n",
              "          if (!dataTable) return;\n",
              "\n",
              "          const docLinkHtml = 'Like what you see? Visit the ' +\n",
              "            '<a target=\"_blank\" href=https://colab.research.google.com/notebooks/data_table.ipynb>data table notebook</a>'\n",
              "            + ' to learn more about interactive tables.';\n",
              "          element.innerHTML = '';\n",
              "          dataTable['output_type'] = 'display_data';\n",
              "          await google.colab.output.renderOutput(dataTable, element);\n",
              "          const docLink = document.createElement('div');\n",
              "          docLink.innerHTML = docLinkHtml;\n",
              "          element.appendChild(docLink);\n",
              "        }\n",
              "      </script>\n",
              "    </div>\n",
              "  </div>\n",
              "  "
            ],
            "text/plain": [
              "     PassengerId  Survived  Pclass  \\\n",
              "0              1         0       3   \n",
              "1              2         1       1   \n",
              "2              3         1       3   \n",
              "3              4         1       1   \n",
              "4              5         0       3   \n",
              "..           ...       ...     ...   \n",
              "886          887         0       2   \n",
              "887          888         1       1   \n",
              "888          889         0       3   \n",
              "889          890         1       1   \n",
              "890          891         0       3   \n",
              "\n",
              "                                                  Name     Sex   Age  SibSp  \\\n",
              "0                              Braund, Mr. Owen Harris    male  22.0      1   \n",
              "1    Cumings, Mrs. John Bradley (Florence Briggs Th...  female  38.0      1   \n",
              "2                               Heikkinen, Miss. Laina  female  26.0      0   \n",
              "3         Futrelle, Mrs. Jacques Heath (Lily May Peel)  female  35.0      1   \n",
              "4                             Allen, Mr. William Henry    male  35.0      0   \n",
              "..                                                 ...     ...   ...    ...   \n",
              "886                              Montvila, Rev. Juozas    male  27.0      0   \n",
              "887                       Graham, Miss. Margaret Edith  female  19.0      0   \n",
              "888           Johnston, Miss. Catherine Helen \"Carrie\"  female   NaN      1   \n",
              "889                              Behr, Mr. Karl Howell    male  26.0      0   \n",
              "890                                Dooley, Mr. Patrick    male  32.0      0   \n",
              "\n",
              "     Parch            Ticket     Fare Cabin Embarked  \n",
              "0        0         A/5 21171   7.2500   NaN        S  \n",
              "1        0          PC 17599  71.2833   C85        C  \n",
              "2        0  STON/O2. 3101282   7.9250   NaN        S  \n",
              "3        0            113803  53.1000  C123        S  \n",
              "4        0            373450   8.0500   NaN        S  \n",
              "..     ...               ...      ...   ...      ...  \n",
              "886      0            211536  13.0000   NaN        S  \n",
              "887      0            112053  30.0000   B42        S  \n",
              "888      2        W./C. 6607  23.4500   NaN        S  \n",
              "889      0            111369  30.0000  C148        C  \n",
              "890      0            370376   7.7500   NaN        Q  \n",
              "\n",
              "[891 rows x 12 columns]"
            ]
          },
          "metadata": {},
          "execution_count": 7
        }
      ]
    },
    {
      "cell_type": "markdown",
      "source": [
        "# 1. 주어진 자료의 인원, 생존자, 사망자는 몇 명인가?"
      ],
      "metadata": {
        "id": "OLh--HzwiZEr"
      }
    },
    {
      "cell_type": "code",
      "source": [
        "df['Survived'].value_counts()  #1생존자 , 0 사망자"
      ],
      "metadata": {
        "colab": {
          "base_uri": "https://localhost:8080/"
        },
        "id": "Pcwf6schaBC7",
        "outputId": "37fc4466-6a54-4417-8478-8e7c07a3d982"
      },
      "execution_count": null,
      "outputs": [
        {
          "output_type": "execute_result",
          "data": {
            "text/plain": [
              "0    549\n",
              "1    342\n",
              "Name: Survived, dtype: int64"
            ]
          },
          "metadata": {},
          "execution_count": 8
        }
      ]
    },
    {
      "cell_type": "code",
      "source": [
        "count = df['PassengerId'].count() #인원세기\n",
        "sur_data = df['Survived'] #생존자, 사망자\n",
        "print(type(sur_data)) #Series타입출력\n",
        "\n",
        "svc = sur_data.value_counts() #sur_data 카테고리값을 세겠다\n",
        "print(type(svc)) #series는 인덱스와 value가 있는 1차원 시퀸스 데이터.\n",
        "\n",
        "sur_data.count()\n",
        "\n",
        "#0 사망자,1 생존자\n",
        "print(f\"인원 : {sur_data.count()}, 사망자수 : {svc.values[0]}, 생존자 수 : {svc.values[1]}\") #인덱스를 통해 값세기\n"
      ],
      "metadata": {
        "colab": {
          "base_uri": "https://localhost:8080/"
        },
        "id": "F9Nvh37lk3sg",
        "outputId": "a3ab338a-f064-44bb-de4a-31ca6c870cf9"
      },
      "execution_count": null,
      "outputs": [
        {
          "output_type": "stream",
          "name": "stdout",
          "text": [
            "<class 'pandas.core.series.Series'>\n",
            "<class 'pandas.core.series.Series'>\n",
            "인원 : 891, 사망자수 : 549, 생존자 수 : 342\n"
          ]
        }
      ]
    },
    {
      "cell_type": "markdown",
      "source": [
        "\n",
        "2. 생존자와 사망자를 Pie 그래프로 나타내고 생존자와 사망자의 퍼센트를 소수점 2자리까지 나타내시오.\n"
      ],
      "metadata": {
        "id": "HKRXBtwAkJtX"
      }
    },
    {
      "cell_type": "code",
      "source": [
        "labels=[\"dead\" , \"alive\"] #라벨\n",
        "plt.pie(svc, labels=labels, autopct=\"%.2f\" )\n",
        "plt.show()"
      ],
      "metadata": {
        "colab": {
          "base_uri": "https://localhost:8080/",
          "height": 248
        },
        "id": "liKAcuwdkbA_",
        "outputId": "6ff8faca-71ee-489c-c3f2-5646763da599"
      },
      "execution_count": null,
      "outputs": [
        {
          "output_type": "display_data",
          "data": {
            "image/png": "[encoded data removed]",
            "text/plain": [
              "<Figure size 432x288 with 1 Axes>"
            ]
          },
          "metadata": {}
        }
      ]
    },
    {
      "cell_type": "markdown",
      "source": [
        "3. 결측데이터가 있는 컬럼들을 조사하시오."
      ],
      "metadata": {
        "id": "Yn9R2q-AkOQN"
      }
    },
    {
      "cell_type": "code",
      "source": [
        "df.info()"
      ],
      "metadata": {
        "colab": {
          "base_uri": "https://localhost:8080/"
        },
        "id": "abLXhLp3kbWq",
        "outputId": "fab331aa-59f6-48d3-80cd-8dcfb400c882"
      },
      "execution_count": null,
      "outputs": [
        {
          "output_type": "stream",
          "name": "stdout",
          "text": [
            "<class 'pandas.core.frame.DataFrame'>\n",
            "RangeIndex: 891 entries, 0 to 890\n",
            "Data columns (total 12 columns):\n",
            " #   Column       Non-Null Count  Dtype  \n",
            "---  ------       --------------  -----  \n",
            " 0   PassengerId  891 non-null    int64  \n",
            " 1   Survived     891 non-null    int64  \n",
            " 2   Pclass       891 non-null    int64  \n",
            " 3   Name         891 non-null    object \n",
            " 4   Sex          891 non-null    object \n",
            " 5   Age          714 non-null    float64\n",
            " 6   SibSp        891 non-null    int64  \n",
            " 7   Parch        891 non-null    int64  \n",
            " 8   Ticket       891 non-null    object \n",
            " 9   Fare         891 non-null    float64\n",
            " 10  Cabin        204 non-null    object \n",
            " 11  Embarked     889 non-null    object \n",
            "dtypes: float64(2), int64(5), object(5)\n",
            "memory usage: 83.7+ KB\n"
          ]
        }
      ]
    },
    {
      "cell_type": "markdown",
      "source": [
        ""
      ],
      "metadata": {
        "id": "2zHJiZgbZOyE"
      }
    },
    {
      "cell_type": "code",
      "source": [
        "df['Age'].isnull().value_counts()"
      ],
      "metadata": {
        "colab": {
          "base_uri": "https://localhost:8080/"
        },
        "id": "RzXkluelmC_3",
        "outputId": "7f83bb9b-d0a3-4461-f201-1c9cb2791554"
      },
      "execution_count": null,
      "outputs": [
        {
          "output_type": "execute_result",
          "data": {
            "text/plain": [
              "False    714\n",
              "True     177\n",
              "Name: Age, dtype: int64"
            ]
          },
          "metadata": {},
          "execution_count": 12
        }
      ]
    },
    {
      "cell_type": "code",
      "source": [
        "df['Cabin'].isnull().value_counts()"
      ],
      "metadata": {
        "colab": {
          "base_uri": "https://localhost:8080/"
        },
        "id": "znTGUCPumJIs",
        "outputId": "d59c3323-532c-4fe1-ccb8-9eb3966624e7"
      },
      "execution_count": null,
      "outputs": [
        {
          "output_type": "execute_result",
          "data": {
            "text/plain": [
              "True     687\n",
              "False    204\n",
              "Name: Cabin, dtype: int64"
            ]
          },
          "metadata": {},
          "execution_count": 13
        }
      ]
    },
    {
      "cell_type": "code",
      "source": [
        "df['Embarked'].isnull().value_counts()"
      ],
      "metadata": {
        "colab": {
          "base_uri": "https://localhost:8080/"
        },
        "id": "cmxUi_0AmO_b",
        "outputId": "35dd1fd0-047b-4148-a0b2-61208a551081"
      },
      "execution_count": null,
      "outputs": [
        {
          "output_type": "execute_result",
          "data": {
            "text/plain": [
              "False    889\n",
              "True       2\n",
              "Name: Embarked, dtype: int64"
            ]
          },
          "metadata": {},
          "execution_count": 14
        }
      ]
    },
    {
      "cell_type": "markdown",
      "source": [
        "4. Pclass의 종류별로 분포를 Pie 그래프로 나타내시오."
      ],
      "metadata": {
        "id": "Av4xnV2zkOVC"
      }
    },
    {
      "cell_type": "code",
      "source": [
        "#df['Pclass'] \n",
        "dvc = df.Pclass.value_counts().sort_index()\n",
        "plt.pie(dvc.values , labels=['1','2','3'] ,autopct=\"%.2f\")\n",
        "plt.title(\"Pclass\")\n",
        "plt.show()"
      ],
      "metadata": {
        "colab": {
          "base_uri": "https://localhost:8080/",
          "height": 264
        },
        "id": "MdSNzL7bkbxi",
        "outputId": "fd19c138-4484-4ac1-e0d9-a9790b737167"
      },
      "execution_count": null,
      "outputs": [
        {
          "output_type": "display_data",
          "data": {
            "image/png": "[encoded data removed]",
            "text/plain": [
              "<Figure size 432x288 with 1 Axes>"
            ]
          },
          "metadata": {}
        }
      ]
    },
    {
      "cell_type": "markdown",
      "source": [
        "5. Pclass의 종류별로 생존자와 사망자를 하나의 막대그래프로 나타내시오.(아래:생존자, 위:사망자)"
      ],
      "metadata": {
        "id": "mpFLmHtLkOXR"
      }
    },
    {
      "cell_type": "code",
      "source": [
        "pdata = df.Pclass #pdata : Pclass에 관한 데이터 프레임\n",
        "cn = len(pdata.unique()) #pdata의 고유값 길이 수\n",
        "pc_alive_arr = np.zeros(cn) #numpy\n",
        "pc_dead_arr = np.zeros(cn)\n",
        "\n",
        "for index in range(len(pdata)):\n",
        "  pi = pdata[index]-1 # Pclass는 1,2,3인데 이를 0,1,2로 변환 \n",
        "  if sur_data[index]==0: #죽은 승객일 때\n",
        "    pc_dead_arr[pi] +=1\n",
        "  else: #생존\n",
        "    pc_alive_arr[pi] +=1\n",
        "\n",
        "pc_alive_arr, pc_dead_arr  #클래스1,2,3 별로 살아있는 ... (array([136.,  87., 119.]), array([ 80.,  97., 372.]))\n",
        "\n",
        "labels=['1','2','3']\n",
        "plt.bar(labels,pc_alive_arr)\n",
        "plt.bar(labels,pc_dead_arr , bottom=pc_alive_arr)\n",
        "\n",
        "for i in range(cn):\n",
        "  plt.annotate(str(pc_alive_arr[i]) ,(-0.1+i,40))\n",
        "  plt.annotate(str(pc_alive_arr[i]) ,(-0.1+i,pc_alive_arr[i]+30))\n",
        "\n",
        "\n",
        "plt.show()\n",
        "\n"
      ],
      "metadata": {
        "colab": {
          "base_uri": "https://localhost:8080/",
          "height": 265
        },
        "id": "1UniWfdDkcJC",
        "outputId": "f6e1116b-1fc7-4567-e14d-4f0aa990d97d"
      },
      "execution_count": null,
      "outputs": [
        {
          "output_type": "display_data",
          "data": {
            "image/png": "[encoded data removed]",
            "text/plain": [
              "<Figure size 432x288 with 1 Axes>"
            ]
          },
          "metadata": {
            "needs_background": "light"
          }
        }
      ]
    },
    {
      "cell_type": "markdown",
      "source": [
        "6. Name 컬럼에 탑승자를 부르는 호칭을 Mr, Mrs, Miss, Master, Dr, ETC로 나누어 분포를 파이 그래프로 나타내시오."
      ],
      "metadata": {
        "id": "_PaIpklvkOZn"
      }
    },
    {
      "cell_type": "markdown",
      "source": [
        ""
      ],
      "metadata": {
        "id": "01FzpEVG9vD9"
      }
    },
    {
      "cell_type": "code",
      "source": [
        "df.Name\n",
        "names_values=['Mr', 'Mrs', 'Miss', 'Master', 'Dr', 'ETC']\n",
        "#names_values 중에 몇 번째 것인지 판별하는 함수\n",
        "def get_name_index(name):\n",
        "  first, second= name.split(',')#,를 기준으로 앞뒤로 분리시켜서 뒤쪽 데이터만 사용\n",
        "  foos = second.split('.' )#뒤의 데이터 중에서도 .을 기준으로 분리, 그런데 .이 있지 않은 것도 있어서 컬렉션을 받고\n",
        "  tn = foos[0].replace(' ','') #공백을 없앤다.\n",
        "  for index, nv in enumerate(names_values): #names_values\n",
        "    if nv == tn:\n",
        "      return index  \n",
        "  return 5\n",
        "\n",
        "#ni=get_name_index(df.Name[1])  잘 작동하는지 확인\n",
        "#print(f\"{df.Name[1]} : {names_values[ni]}\")\n",
        "\n",
        "n_cnts = np.zeros(6) #names_values 길이만큼을 원소값0 array로 만들기\n",
        "for i, name in enumerate(df.Name):\n",
        "  ni = get_name_index(name)\n",
        "  n_cnts[ni] +=1\n",
        "#print(n_cnts)\n",
        "\n",
        "plt.pie(n_cnts, labels=names_values, autopct=\"%.2f %%\")\n",
        "plt.title(\"Name\")\n",
        "plt.show()"
      ],
      "metadata": {
        "colab": {
          "base_uri": "https://localhost:8080/",
          "height": 264
        },
        "id": "Bri60qt9kchq",
        "outputId": "c75cff03-7fa7-4044-c5e3-ea882451daf2"
      },
      "execution_count": null,
      "outputs": [
        {
          "output_type": "display_data",
          "data": {
            "image/png": "[encoded data removed]",
            "text/plain": [
              "<Figure size 432x288 with 1 Axes>"
            ]
          },
          "metadata": {}
        }
      ]
    },
    {
      "cell_type": "markdown",
      "source": [
        "7. 앞에서 구분한 호칭에 따른 생존자와 사망자를 하나의 막대그래프로 나타내시오.(아래:생존자, 위:사망자)\n"
      ],
      "metadata": {
        "id": "I6OgV49hkOcA"
      }
    },
    {
      "cell_type": "code",
      "source": [
        "pn_alive_arr = np.zeros(6)\n",
        "pn_dead_arr = np.zeros(6)\n",
        "for i,name in enumerate(df.Name):\n",
        "  ni = get_name_index(name)\n",
        "  if sur_data[i]==0:\n",
        "    pn_dead_arr[ni]+=1\n",
        "  else:\n",
        "    pn_alive_arr[ni]+=1\n",
        "plt.bar(names_values, pn_alive_arr)\n",
        "plt.bar(names_values, pn_dead_arr, bottom = pn_alive_arr)\n",
        "for i in range(6):\n",
        "  plt.annotate(str(pn_alive_arr[i]),(-0.1+i,40))\n",
        "  if pn_alive_arr[i]<40:\n",
        "    plt.annotate(str(pn_dead_arr[i]),(-0.1+i, pn_alive_arr[i]+80))\n",
        "  else:\n",
        "    plt.annotate(str(pn_dead_arr[i]),(-0.1+i, pn_alive_arr[i]+80))\n",
        "plt.show()"
      ],
      "metadata": {
        "colab": {
          "base_uri": "https://localhost:8080/",
          "height": 265
        },
        "id": "lEmxRooykc9o",
        "outputId": "b6c6ce4e-7d03-4c1f-e2a7-bc7bd361fb03"
      },
      "execution_count": null,
      "outputs": [
        {
          "output_type": "display_data",
          "data": {
            "image/png": "[encoded data removed]",
            "text/plain": [
              "<Figure size 432x288 with 1 Axes>"
            ]
          },
          "metadata": {
            "needs_background": "light"
          }
        }
      ]
    },
    {
      "cell_type": "markdown",
      "source": [
        "\n",
        "8. 성별로 분포를 파이 그래프로 나타내시오."
      ],
      "metadata": {
        "id": "7lMY2mo_kOeI"
      }
    },
    {
      "cell_type": "code",
      "source": [
        "dvc = df.Sex.value_counts().sort_index()\n",
        "plt.pie(dvc.values , labels=['female','man'] ,autopct=\"%.2f\")\n",
        "plt.title(\"sex\")\n",
        "plt.show()  #0남자 "
      ],
      "metadata": {
        "colab": {
          "base_uri": "https://localhost:8080/",
          "height": 264
        },
        "id": "oHeY_SW2kddS",
        "outputId": "b52ac3bd-4d89-4132-ffc9-7492aaad8c00"
      },
      "execution_count": null,
      "outputs": [
        {
          "output_type": "display_data",
          "data": {
            "image/png": "[encoded data removed]",
            "text/plain": [
              "<Figure size 432x288 with 1 Axes>"
            ]
          },
          "metadata": {}
        }
      ]
    },
    {
      "cell_type": "markdown",
      "source": [
        "9. 성별에 따른 생존자와 사망자를 하나의 막대그래프로 나타내시오.(아래:생존자, 위:사망자)"
      ],
      "metadata": {
        "id": "ocYuYxu1kOga"
      }
    },
    {
      "cell_type": "code",
      "source": [
        "sdata = df.Sex\n",
        "sn = len(sdata.unique())\n",
        "ps_alive_arr = np.zeros(sn)\n",
        "ps_dead_arr = np.zeros(sn)\n",
        "\n",
        "for index in range(len(sdata)):\n",
        "  if sdata[index] =='female':\n",
        "    si =0\n",
        "  else:\n",
        "    si =1\n",
        "  if sur_data[index] ==0: #죽은 승객일때\n",
        "    ps_dead_arr[si]+=1\n",
        "  else:\n",
        "    ps_alive_arr[si]+=1 \n",
        "\n",
        "labels=['female','male']\n",
        "plt.bar(labels,ps_alive_arr)\n",
        "plt.bar(labels,ps_dead_arr , bottom=ps_alive_arr)\n",
        "\n",
        "for i in range(sn):\n",
        "  plt.annotate(str(ps_alive_arr[i]) ,(-0.1+i,40))\n",
        "  plt.annotate(str(ps_dead_arr[i]) ,(-0.1+i,ps_alive_arr[i]+30))\n",
        "\n",
        "\n",
        "plt.show()\n",
        "\n"
      ],
      "metadata": {
        "colab": {
          "base_uri": "https://localhost:8080/",
          "height": 267
        },
        "id": "GlYRL3WOkd4a",
        "outputId": "e0c5a569-3613-4efd-b9ee-1b17c898db6d"
      },
      "execution_count": null,
      "outputs": [
        {
          "output_type": "display_data",
          "data": {
            "image/png": "[encoded data removed]",
            "text/plain": [
              "<Figure size 432x288 with 1 Axes>"
            ]
          },
          "metadata": {
            "needs_background": "light"
          }
        }
      ]
    },
    {
      "cell_type": "markdown",
      "source": [
        "10. 나이를 5살 범위로 17단계로(0~5, 5~10,...,80~85)로 나누어 분포를 조사하여 파이 그래프로 나타내시오.(결측값은 평균나이로 처리하시오.)"
      ],
      "metadata": {
        "id": "XUK00Ps6kOiu"
      }
    },
    {
      "cell_type": "code",
      "source": [
        "mv = df.Age.mean() #평균\n",
        "ad = df.Age.fillna(mv) #결측치를 수정\n",
        "ad.isnull().value_counts() #확인"
      ],
      "metadata": {
        "colab": {
          "base_uri": "https://localhost:8080/"
        },
        "id": "H6spP5kpkZ5n",
        "outputId": "47f3f605-deb6-4b7d-e697-8ee513f346f7"
      },
      "execution_count": null,
      "outputs": [
        {
          "output_type": "execute_result",
          "data": {
            "text/plain": [
              "False    891\n",
              "Name: Age, dtype: int64"
            ]
          },
          "metadata": {},
          "execution_count": 21
        }
      ]
    },
    {
      "cell_type": "code",
      "source": [
        "n, bins, patches = plt.hist(ad,bins =[0,5,10,15,20,25,30,35,40,45,50,55,60,65,70,75,80,85])\n",
        "plt.show()\n",
        "n"
      ],
      "metadata": {
        "colab": {
          "base_uri": "https://localhost:8080/",
          "height": 302
        },
        "id": "XuaBvWpkf3lc",
        "outputId": "025cd890-814d-40f4-9a3a-aa7b947aa81d"
      },
      "execution_count": null,
      "outputs": [
        {
          "output_type": "display_data",
          "data": {
            "image/png": "[encoded data removed]",
            "text/plain": [
              "<Figure size 432x288 with 1 Axes>"
            ]
          },
          "metadata": {
            "needs_background": "light"
          }
        },
        {
          "output_type": "execute_result",
          "data": {
            "text/plain": [
              "array([ 40.,  22.,  16.,  86., 114., 283.,  95.,  72.,  48.,  41.,  32.,\n",
              "        16.,  15.,   4.,   6.,   0.,   1.])"
            ]
          },
          "metadata": {},
          "execution_count": 22
        }
      ]
    },
    {
      "cell_type": "code",
      "source": [
        "age_values = np.zeros(17)\n",
        "for i, age in enumerate(ad):\n",
        "  ai =  age//5\n",
        "  ai = int(ai)\n",
        "  age_values[ai] +=1\n",
        "age_values"
      ],
      "metadata": {
        "colab": {
          "base_uri": "https://localhost:8080/"
        },
        "id": "b-ZOFrfzg-kp",
        "outputId": "113deb4e-3eba-4db4-9fc4-7771461ddb5b"
      },
      "execution_count": null,
      "outputs": [
        {
          "output_type": "execute_result",
          "data": {
            "text/plain": [
              "array([ 40.,  22.,  16.,  86., 114., 283.,  95.,  72.,  48.,  41.,  32.,\n",
              "        16.,  15.,   4.,   6.,   0.,   1.])"
            ]
          },
          "metadata": {},
          "execution_count": 23
        }
      ]
    },
    {
      "cell_type": "code",
      "source": [
        "plt.pie(age_values ,labels=['0','5','10','15','20','25','30','35','40','45','50','55','60','65','70','75','80'])\n",
        "plt.show()"
      ],
      "metadata": {
        "colab": {
          "base_uri": "https://localhost:8080/",
          "height": 248
        },
        "id": "yB4ugSJPiFtk",
        "outputId": "ffbd41a8-657e-44ca-b214-1ba1a59b82eb"
      },
      "execution_count": null,
      "outputs": [
        {
          "output_type": "display_data",
          "data": {
            "image/png": "[encoded data removed]",
            "text/plain": [
              "<Figure size 432x288 with 1 Axes>"
            ]
          },
          "metadata": {}
        }
      ]
    },
    {
      "cell_type": "markdown",
      "source": [
        "11. 나이를 구분한 단계에 따른 생존자와 사망자를 하나의 막대그래프로 나타내시오.(아래:생존자, 위:사망자)"
      ],
      "metadata": {
        "id": "mBJCA0t_kaHK"
      }
    },
    {
      "cell_type": "code",
      "source": [
        "ps_alive_arr = np.zeros(17)\n",
        "ps_dead_arr = np.zeros(17)\n",
        "for index in range(len(ad)):\n",
        "  ai = ad[index]//5\n",
        "  ai = int(ai)\n",
        "  \n",
        "  if sur_data[index]==0: #죽은 승객일 때\n",
        "    ps_dead_arr[ai]+=1\n",
        "  else: #생존 승객일 때\n",
        "    ps_alive_arr[ai]+=1\n",
        "\n",
        "labels=['0','5','10','15','20','25','30','35','40','45','50','55','60','65','70','75','80']\n",
        "plt.bar(labels,ps_alive_arr)\n",
        "plt.bar(labels,ps_dead_arr,bottom=ps_alive_arr)\n",
        "plt.show()\n",
        "for i in range(17):\n",
        "  print(f\"{i*5:02d}  ~ {(i+1)*5:-02d}:  {age_values[i]:03.0f}\")\n",
        "\n",
        "\n",
        "plt.show()\n"
      ],
      "metadata": {
        "colab": {
          "base_uri": "https://localhost:8080/",
          "height": 577
        },
        "id": "mlkxmtbykLdq",
        "outputId": "acb34d73-7dc9-49aa-f0dd-0f7b4a74fbdb"
      },
      "execution_count": null,
      "outputs": [
        {
          "output_type": "display_data",
          "data": {
            "image/png": "[encoded data removed]",
            "text/plain": [
              "<Figure size 432x288 with 1 Axes>"
            ]
          },
          "metadata": {
            "needs_background": "light"
          }
        },
        {
          "output_type": "stream",
          "name": "stdout",
          "text": [
            "00  ~ 05:  040\n",
            "05  ~ 10:  022\n",
            "10  ~ 15:  016\n",
            "15  ~ 20:  086\n",
            "20  ~ 25:  114\n",
            "25  ~ 30:  283\n",
            "30  ~ 35:  095\n",
            "35  ~ 40:  072\n",
            "40  ~ 45:  048\n",
            "45  ~ 50:  041\n",
            "50  ~ 55:  032\n",
            "55  ~ 60:  016\n",
            "60  ~ 65:  015\n",
            "65  ~ 70:  004\n",
            "70  ~ 75:  006\n",
            "75  ~ 80:  000\n",
            "80  ~ 85:  001\n"
          ]
        }
      ]
    },
    {
      "cell_type": "markdown",
      "source": [
        "12. SibSp 컬럼의 값의 종류에 따른 분포를 조사하여 파이 그래프로 나타내시오."
      ],
      "metadata": {
        "id": "035L4LSPkhx_"
      }
    },
    {
      "cell_type": "code",
      "source": [
        "svc = df.SibSp.value_counts().sort_index()\n",
        "plt.pie(svc.values , labels=svc, autopct=\"%.2f\")\n",
        "plt.title(\"SibSp\")\n",
        "plt.show()"
      ],
      "metadata": {
        "colab": {
          "base_uri": "https://localhost:8080/",
          "height": 264
        },
        "id": "r699Vsg2iZ_3",
        "outputId": "0f1290fa-b65e-4dbf-8684-50295da8c4ef"
      },
      "execution_count": null,
      "outputs": [
        {
          "output_type": "display_data",
          "data": {
            "image/png": "[encoded data removed]",
            "text/plain": [
              "<Figure size 432x288 with 1 Axes>"
            ]
          },
          "metadata": {}
        }
      ]
    },
    {
      "cell_type": "markdown",
      "source": [
        "13. 값에 따른 생존자와 사망자를 하나의 막대그래프로 나타내시오.(아래:생존자, 위:사망자)"
      ],
      "metadata": {
        "id": "krWwS1-UkjvY"
      }
    },
    {
      "cell_type": "code",
      "source": [
        "sdata = df.SibSp\n",
        "sn = 9 #형제 자매 수를 인덱스로 사용하기 위해서 0~8개까지 9개를 사용 \n",
        "sc_alive_arr = np.zeros(sn)\n",
        "sc_dead_arr = np.zeros(sn)\n",
        "\n",
        "for index in range(len(sdata)):\n",
        "  si = sdata[index] #형제 자매수를 얻어온다.\n",
        "  if sur_data[index] ==0: #죽은 승객일때\n",
        "    sc_dead_arr[si]+=1\n",
        "  else:\n",
        "    sc_alive_arr[si]+=1 \n",
        "\n",
        "labels=[str(i) for i in range(9)]\n",
        "plt.bar(labels,sc_alive_arr)\n",
        "plt.bar(labels,sc_dead_arr , bottom=sc_alive_arr)\n",
        "\n",
        "for i in range(sn):\n",
        "  plt.annotate(str(sc_alive_arr[i]) ,(-0.2+i,40))\n",
        "  if sc_alive_arr[i] <40:\n",
        "     plt.annotate(str(sc_dead_arr[i]) ,(-0.2+i,sc_alive_arr[i]+80))\n",
        "  else:\n",
        "    plt.annotate(str(sc_dead_arr[i]) ,(-0.2+i,sc_alive_arr[i]+30))\n",
        "\n",
        "\n",
        "plt.show()\n",
        "\n"
      ],
      "metadata": {
        "colab": {
          "base_uri": "https://localhost:8080/",
          "height": 265
        },
        "id": "rNWcPvyZaBFF",
        "outputId": "37d6a8e9-19f9-4905-82d8-076710c07db9"
      },
      "execution_count": null,
      "outputs": [
        {
          "output_type": "display_data",
          "data": {
            "image/png": "[encoded data removed]",
            "text/plain": [
              "<Figure size 432x288 with 1 Axes>"
            ]
          },
          "metadata": {
            "needs_background": "light"
          }
        }
      ]
    },
    {
      "cell_type": "markdown",
      "source": [
        "14. Parch 컬럼의 값의 종류에 따른 분포를 조사하여 파이 그래프로 나타내시오.\n"
      ],
      "metadata": {
        "id": "iWs0A9Yjkllg"
      }
    },
    {
      "cell_type": "code",
      "source": [
        "pvc = df.Parch.value_counts().sort_index()\n",
        "\n",
        "plt.pie(pvc.values, labels=pvc.index,autopct=\"%.2f\")\n",
        "plt.title(\"Parch\")\n",
        "plt.show()  "
      ],
      "metadata": {
        "id": "mPPx_qxKKYMK",
        "colab": {
          "base_uri": "https://localhost:8080/",
          "height": 264
        },
        "outputId": "d5320563-63c8-4a37-cc14-31c5fd6ad47e"
      },
      "execution_count": null,
      "outputs": [
        {
          "output_type": "display_data",
          "data": {
            "image/png": "[encoded data removed]",
            "text/plain": [
              "<Figure size 432x288 with 1 Axes>"
            ]
          },
          "metadata": {}
        }
      ]
    },
    {
      "cell_type": "markdown",
      "source": [
        "15. 값에 따른 생존자와 사망자를 하나의 막대그래프로 나타내시오.(아래:생존자, 위:사망자)"
      ],
      "metadata": {
        "id": "NAgwlNOnknac"
      }
    },
    {
      "cell_type": "code",
      "source": [
        "pdata = df.Parch\n",
        "pn = 7 #직계 자손, 조상수를 인덱스로 사용하기 위해 0~6까지 7개 새용\n",
        "pc_alive_arr = np.zeros(pn)\n",
        "pc_dead_arr = np.zeros(pn)\n",
        "\n",
        "for index in range(len(pdata)):\n",
        "  pi = pdata[index] #직계 자손, 조상 수\n",
        "  if sur_data[index] ==0: #죽은 승객일때\n",
        "    pc_dead_arr[pi]+=1\n",
        "  else:\n",
        "    pc_alive_arr[pi]+=1 \n",
        "\n",
        "labels=[str(i) for i in range(pn)]\n",
        "plt.bar(labels,pc_alive_arr)\n",
        "plt.bar(labels,pc_dead_arr , bottom=pc_alive_arr)\n",
        "\n",
        "for i in range(pn):\n",
        "  plt.annotate(str(pc_alive_arr[i]) ,(-0.2+i,40))\n",
        "  if pc_alive_arr[i] <40:\n",
        "     plt.annotate(str(pc_dead_arr[i]) ,(-0.2+i,pc_alive_arr[i]+80))\n",
        "  else:\n",
        "    plt.annotate(str(pc_dead_arr[i]) ,(-0.2+i,pc_alive_arr[i]+30))\n",
        "\n",
        "plt.show()"
      ],
      "metadata": {
        "id": "M_4C9HwQZh6V",
        "colab": {
          "base_uri": "https://localhost:8080/",
          "height": 266
        },
        "outputId": "9b76183d-2b45-493b-c635-15d5cfb39804"
      },
      "execution_count": null,
      "outputs": [
        {
          "output_type": "display_data",
          "data": {
            "image/png": "[encoded data removed]",
            "text/plain": [
              "<Figure size 432x288 with 1 Axes>"
            ]
          },
          "metadata": {
            "needs_background": "light"
          }
        }
      ]
    },
    {
      "cell_type": "markdown",
      "source": [
        "\n",
        "16. 승선한 항구(Embarked 컬럼)에 따른 분포를 조사하여 파이 그래프로 나타내시오.(결측값은 'N'으로 마킹하시오.)"
      ],
      "metadata": {
        "id": "PdaNFCQykpCs"
      }
    },
    {
      "cell_type": "code",
      "source": [
        "df.Embarked.isnull().value_counts()"
      ],
      "metadata": {
        "id": "qb3a2gQeZh80",
        "colab": {
          "base_uri": "https://localhost:8080/"
        },
        "outputId": "914513fb-f6de-4de2-994f-a2d125597959"
      },
      "execution_count": null,
      "outputs": [
        {
          "output_type": "execute_result",
          "data": {
            "text/plain": [
              "False    889\n",
              "True       2\n",
              "Name: Embarked, dtype: int64"
            ]
          },
          "metadata": {},
          "execution_count": 36
        }
      ]
    },
    {
      "cell_type": "code",
      "source": [
        "edata = df.Embarked.fillna('N')\n",
        "edata.isnull().value_counts()"
      ],
      "metadata": {
        "colab": {
          "base_uri": "https://localhost:8080/"
        },
        "id": "dYBq_l9JkW19",
        "outputId": "65939185-cd59-480f-ad3a-2da90adb7939"
      },
      "execution_count": null,
      "outputs": [
        {
          "output_type": "execute_result",
          "data": {
            "text/plain": [
              "False    891\n",
              "Name: Embarked, dtype: int64"
            ]
          },
          "metadata": {},
          "execution_count": 38
        }
      ]
    },
    {
      "cell_type": "code",
      "source": [
        "evc = edata.value_counts().sort_index()\n",
        "\n",
        "plt.pie(evc.values, labels=evc.index,autopct=\"%.2f\")\n",
        "plt.title(\"Embarked\")\n",
        "plt.show()  \n",
        "\n"
      ],
      "metadata": {
        "colab": {
          "base_uri": "https://localhost:8080/",
          "height": 264
        },
        "id": "RSYL4rASkuVI",
        "outputId": "04b3f21c-4206-41ee-ed34-9bb5745c1d55"
      },
      "execution_count": null,
      "outputs": [
        {
          "output_type": "display_data",
          "data": {
            "image/png": "[encoded data removed]",
            "text/plain": [
              "<Figure size 432x288 with 1 Axes>"
            ]
          },
          "metadata": {}
        }
      ]
    },
    {
      "cell_type": "markdown",
      "source": [
        "17. 값에 따른 생존자와 사망자를 하나의 막대그래프로 나타내시오.(아래:생존자, 위:사망자)"
      ],
      "metadata": {
        "id": "r50J84V3kqo-"
      }
    },
    {
      "cell_type": "code",
      "source": [
        "#edata.unique() #array(['S', 'C', 'Q', 'N'], dtype=object)\n",
        "len(edata.unique())"
      ],
      "metadata": {
        "colab": {
          "base_uri": "https://localhost:8080/"
        },
        "id": "jgwVPhpslWZq",
        "outputId": "535b3aec-ba09-41b0-c315-fedc93bff1e8"
      },
      "execution_count": null,
      "outputs": [
        {
          "output_type": "execute_result",
          "data": {
            "text/plain": [
              "4"
            ]
          },
          "metadata": {},
          "execution_count": 42
        }
      ]
    },
    {
      "cell_type": "code",
      "source": [
        "def get_embarked_index(embarked):\n",
        "  if embarked =='S':\n",
        "    return 0\n",
        "  if embarked =='C':\n",
        "    return 1\n",
        "  if embarked =='Q':\n",
        "    return 2\n",
        "  if embarked =='N':\n",
        "    return 3\n",
        "\n",
        "\"\"\"\n",
        "제대로 작성됐는지 확인\n",
        "i=3\n",
        "print(edata[i], get_embarked_index(edata[i]))\n",
        "\"\"\""
      ],
      "metadata": {
        "colab": {
          "base_uri": "https://localhost:8080/"
        },
        "id": "iWNxQeh7lxo0",
        "outputId": "93141cb1-b993-42d9-bb94-6ccf16ee99a2"
      },
      "execution_count": null,
      "outputs": [
        {
          "output_type": "stream",
          "name": "stdout",
          "text": [
            "S None\n"
          ]
        }
      ]
    },
    {
      "cell_type": "code",
      "source": [
        "edata.unique() #값의 종류 확인\n",
        "en = len(edata.unique()) #승선한 항구 수\n",
        "ec_alive_arr = np.zeros(en)\n",
        "ec_dead_arr = np.zeros(en)\n",
        "for index in range(len(edata)):\n",
        "  ei = get_embarked_index(edata[index]) #embarked의 인덱스 얻어온다\n",
        "  if sur_data[index]==0: #사망 승객\n",
        "    ec_dead_arr[ei]+=1\n",
        "  else: #생존 승객\n",
        "    ec_alive_arr[ei]+=1\n",
        "  \n",
        "labels=evc.index\n",
        "plt.bar(labels,ec_alive_arr)\n",
        "plt.bar(labels,ec_dead_arr,bottom=ec_alive_arr)\n",
        "for i in range(en):\n",
        "  plt.annotate(str(ec_alive_arr[i]),(-0.2+i, 40))\n",
        "  if ec_alive_arr[i]<40:\n",
        "    plt.annotate(str(ec_dead_arr[i]),(-0.2+i, ec_alive_arr[i]+80))\n",
        "  else:\n",
        "    plt.annotate(str(ec_dead_arr[i]),(-0.2+i, ec_alive_arr[i]+30))\n",
        "plt.title('Embarked')\n",
        "plt.show()"
      ],
      "metadata": {
        "id": "Xgcv44tvZiC0",
        "colab": {
          "base_uri": "https://localhost:8080/",
          "height": 281
        },
        "outputId": "c5a6bd7f-1e05-489e-984c-830ba9a0a4e9"
      },
      "execution_count": null,
      "outputs": [
        {
          "output_type": "display_data",
          "data": {
            "image/png": "[encoded data removed]",
            "text/plain": [
              "<Figure size 432x288 with 1 Axes>"
            ]
          },
          "metadata": {
            "needs_background": "light"
          }
        }
      ]
    },
    {
      "cell_type": "code",
      "source": [
        ""
      ],
      "metadata": {
        "id": "Z_zdG_HdOZKK"
      },
      "execution_count": null,
      "outputs": []
    },
    {
      "cell_type": "markdown",
      "source": [
        ""
      ],
      "metadata": {
        "id": "KZbuANxRS3Gk"
      }
    },
    {
      "cell_type": "code",
      "source": [
        "from bs4 import BeautifulSoup\n",
        "url = 'https://ehpub.co.kr'\n",
        "response = urllib.request.urlopen(url) #웹 서버에 요청\n",
        "res = response.read().decode('utf-8')\n",
        "bre = BeautifulSoup(res,'html.parser')\n",
        "\n",
        "\n",
        "wc = WordCloud(font_path = '/usr/share/fonts/truetype/nanum/NanumBarunGothic.ttf')\n",
        "wc.generate(bre.body.text)\n",
        "plt.figure()\n",
        "plt.imshow(wc)\n",
        "plt.axis('off')\n",
        "plt.show()\n",
        "wc.words_"
      ],
      "metadata": {
        "colab": {
          "base_uri": "https://localhost:8080/",
          "height": 248
        },
        "id": "ERizBZeAOZMW",
        "outputId": "35422eb8-0c23-4880-a8b0-f020a3ba0137"
      },
      "execution_count": null,
      "outputs": [
        {
          "output_type": "error",
          "ename": "NameError",
          "evalue": "ignored",
          "traceback": [
            "\u001b[0;31m---------------------------------------------------------------------------\u001b[0m",
            "\u001b[0;31mNameError\u001b[0m                                 Traceback (most recent call last)",
            "\u001b[0;32m<ipython-input-31-062bfe346269>\u001b[0m in \u001b[0;36m<module>\u001b[0;34m()\u001b[0m\n\u001b[1;32m      1\u001b[0m \u001b[0;32mfrom\u001b[0m \u001b[0mbs4\u001b[0m \u001b[0;32mimport\u001b[0m \u001b[0mBeautifulSoup\u001b[0m\u001b[0;34m\u001b[0m\u001b[0;34m\u001b[0m\u001b[0m\n\u001b[1;32m      2\u001b[0m \u001b[0murl\u001b[0m \u001b[0;34m=\u001b[0m \u001b[0;34m'https://ehpub.co.kr'\u001b[0m\u001b[0;34m\u001b[0m\u001b[0;34m\u001b[0m\u001b[0m\n\u001b[0;32m----> 3\u001b[0;31m \u001b[0mresponse\u001b[0m \u001b[0;34m=\u001b[0m \u001b[0murllib\u001b[0m\u001b[0;34m.\u001b[0m\u001b[0mrequest\u001b[0m\u001b[0;34m.\u001b[0m\u001b[0murlopen\u001b[0m\u001b[0;34m(\u001b[0m\u001b[0murl\u001b[0m\u001b[0;34m)\u001b[0m \u001b[0;31m#웹 서버에 요청\u001b[0m\u001b[0;34m\u001b[0m\u001b[0;34m\u001b[0m\u001b[0m\n\u001b[0m\u001b[1;32m      4\u001b[0m \u001b[0mres\u001b[0m \u001b[0;34m=\u001b[0m \u001b[0mresponse\u001b[0m\u001b[0;34m.\u001b[0m\u001b[0mread\u001b[0m\u001b[0;34m(\u001b[0m\u001b[0;34m)\u001b[0m\u001b[0;34m.\u001b[0m\u001b[0mdecode\u001b[0m\u001b[0;34m(\u001b[0m\u001b[0;34m'utf-8'\u001b[0m\u001b[0;34m)\u001b[0m\u001b[0;34m\u001b[0m\u001b[0;34m\u001b[0m\u001b[0m\n\u001b[1;32m      5\u001b[0m \u001b[0mbre\u001b[0m \u001b[0;34m=\u001b[0m \u001b[0mBeautifulSoup\u001b[0m\u001b[0;34m(\u001b[0m\u001b[0mres\u001b[0m\u001b[0;34m,\u001b[0m\u001b[0;34m'html.parser'\u001b[0m\u001b[0;34m)\u001b[0m\u001b[0;34m\u001b[0m\u001b[0;34m\u001b[0m\u001b[0m\n",
            "\u001b[0;31mNameError\u001b[0m: name 'urllib' is not defined"
          ]
        }
      ]
    }
  ]
}