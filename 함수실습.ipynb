{
  "nbformat": 4,
  "nbformat_minor": 0,
  "metadata": {
    "colab": {
      "name": "함수실습.ipynb",
      "provenance": [],
      "mount_file_id": "1Ig2vHqVT84Raulk19IxBwR-QhPwPtOBW",
      "authorship_tag": "ABX9TyNG+hOle8N9yW5FzVF5NGaM",
      "include_colab_link": true
    },
    "kernelspec": {
      "name": "python3",
      "display_name": "Python 3"
    },
    "language_info": {
      "name": "python"
    }
  },
  "cells": [
    {
      "cell_type": "markdown",
      "metadata": {
        "id": "view-in-github",
        "colab_type": "text"
      },
      "source": [
        "<a href=\"https://colab.research.google.com/github/shhh-33/sesac-python/blob/shhh/%ED%95%A8%EC%88%98%EC%8B%A4%EC%8A%B5.ipynb\" target=\"_parent\"><img src=\"https://colab.research.google.com/assets/colab-badge.svg\" alt=\"Open In Colab\"/></a>"
      ]
    },
    {
      "cell_type": "markdown",
      "source": [
        "회원 관리 프로그램을 작성하시오\n",
        "프로그램은 메뉴 선택에 의해 동작하는 콘솔 응용입니다.\n",
        "1.회원 데이터 추가\n",
        "-회원 아이디를 입력받는다.\n",
        "-이미 존재하면 기능 종료\n",
        "-이름,이메일,나이,키 입력받는다.\n",
        "2.회원 데이터 삭제\n",
        "-회원 아이디를 입력받는다.\n",
        "-아이디가 존재하지 않으면 없다고 출력하고 기능 종료\n",
        "-존재하면 삭제하고 삭제하였다고 출력\n",
        "3.회원 데이터 검색\n",
        "-회원 아이디를 입력받는다.\n",
        "-아이디가 존재하지 않으면 없다고 출력하고 기능 종료\n",
        "-존재하면 출력\n",
        "4.전체 회원 데이터 정보 출력\n",
        "아이디 순으로 전체 회원정보 출력\n",
        "0.프로그램 종료\n",
        "\n",
        "프로그램 종료시 회원 정보를 members.csv파일로 기록\n",
        "프로그램 시작시 members.csv파일에 정보를 로딩"
      ],
      "metadata": {
        "id": "xrXb1bkcJaTN"
      }
    },
    {
      "cell_type": "code",
      "execution_count": 3,
      "metadata": {
        "id": "PaSGZ84OL-vb"
      },
      "outputs": [],
      "source": [
        "members={}\n",
        "def load(fname):\n",
        "  try:\n",
        "    fs = open(fname,'r')\n",
        "  except:\n",
        "    print(\"Welcome~\")\n",
        "    return\n",
        "  all = fs.read()\n",
        "  fs.close()\n",
        "  k_datas=all.split('\\n')\n",
        "  for i in range(1,len(k_datas)):\n",
        "    k_data = k_datas[i]\n",
        "    kds = k_data.split(',')\n",
        "    if(len(kds)!=5):\n",
        "      break\n",
        "    data=[]    \n",
        "    for i in range(1,5):      \n",
        "      data.append(kds[i])\n",
        "    members[kds[0]] = data"
      ]
    },
    {
      "cell_type": "code",
      "source": [
        "def save(fname):\n",
        "  fs = open(fname,'w')\n",
        "  fs.write(\"아이디,이름,이메일,나이,키\\n\")\n",
        "  for _, (id,data) in enumerate(members.items()):\n",
        "    fs.write(f\"{id},{data[0]},{data[1]},{data[2]},{data[3]}\\n\")\n",
        "  fs.close()\n"
      ],
      "metadata": {
        "id": "i2FW0CK_RPGU"
      },
      "execution_count": 4,
      "outputs": []
    },
    {
      "cell_type": "code",
      "source": [
        "members={}\n",
        "def add_member():  \n",
        "  id = input(\"추가할 회원 아이디:\")#회원 아이디를 입력받는다.\n",
        "  if id in members:#이미 존재하면\n",
        "    print(\"이미 존재하는 아이디입니다.\")\n",
        "    return #기능 종료\n",
        "  data=[]\n",
        "  data.append(input(\"이름:\"))\n",
        "  data.append(input(\"이메일:\"))\n",
        "  try:\n",
        "    data.append(int(input(\"나이:\")))\n",
        "  except:\n",
        "    print(\"잘못 입력하여 나이를 0으로 설정합니다.\")\n",
        "    data.append(0)\n",
        "  try:\n",
        "    data.append(float(input(\"키:\")))    \n",
        "  except:\n",
        "    print(\"잘못 입력하여 키를 0으로 설정합니다.\")\n",
        "    data.append(0)\n",
        "  members[id] = data\n",
        "\n"
      ],
      "metadata": {
        "id": "lCibFCvyLlB7"
      },
      "execution_count": 5,
      "outputs": []
    },
    {
      "cell_type": "code",
      "source": [
        "def remove_member():\n",
        "  id = input(\"삭제할 회원 아이디:\")#회원 아이디를 입력받는다.\n",
        "  if id not in members:#존재하지 않으면\n",
        "    print(\"존재하지 않는 아이디입니다.\")\n",
        "    return #기능 종료\n",
        "  del members[id]\n",
        "  print(\"삭제하였습니다.!!!\")\n"
      ],
      "metadata": {
        "id": "airlI96aLlEM"
      },
      "execution_count": 6,
      "outputs": []
    },
    {
      "cell_type": "code",
      "source": [
        "def find_member():\n",
        "  id = input(\"검색할 회원 아이디:\")#회원 아이디를 입력받는다.\n",
        "  if id not in members:#존재하지 않으면\n",
        "    print(\"존재하지 않는 아이디입니다.\")\n",
        "    return #기능 종료\n",
        "  print(members[id])\n"
      ],
      "metadata": {
        "id": "rOwelFBSLlGk"
      },
      "execution_count": 7,
      "outputs": []
    },
    {
      "cell_type": "code",
      "source": [
        "def view_members():\n",
        "  print(members)"
      ],
      "metadata": {
        "id": "vCVMf0IFLlI9"
      },
      "execution_count": 8,
      "outputs": []
    },
    {
      "cell_type": "code",
      "source": [
        "def select_menu():    \n",
        "  print(\"회원 관리 프로그램...\")\n",
        "  print(\"1: 회원 데이터 추가\")\n",
        "  print(\"2: 회원 데이터 삭제\")\n",
        "  print(\"3: 회원 데이터 검색\")\n",
        "  print(\"4: 전체 회원 데이터 보기\")\n",
        "  print(\"0: 프로그램 종료\")\n",
        "  try:\n",
        "    key = int(input(\"선택:\"))\n",
        "  except:\n",
        "    key = 5\n",
        "  return key\n"
      ],
      "metadata": {
        "id": "YsCl4oQTNlcA"
      },
      "execution_count": 9,
      "outputs": []
    },
    {
      "cell_type": "code",
      "source": [
        "fname='/content/drive/MyDrive/파이썬/members.csv'\n",
        "load(fname)\n",
        "while True:\n",
        "  key = select_menu()\n",
        "  if key == 0:\n",
        "    print(\"프로그램을 종료합니다.\")\n",
        "    break\n",
        "  if key == 1:\n",
        "    add_member()\n",
        "  elif key == 2:\n",
        "    remove_member()\n",
        "  elif key == 3:\n",
        "    find_member()\n",
        "  elif key == 4:\n",
        "    view_members()\n",
        "  else:\n",
        "    print(\"잘못 선택하였습니다.\")\n",
        "save(fname)\n",
        "\n",
        "\n"
      ],
      "metadata": {
        "colab": {
          "base_uri": "https://localhost:8080/"
        },
        "id": "LemmKZ_uLlLc",
        "outputId": "d2a59f46-8f55-4fbd-b5c5-005cd55e3c15"
      },
      "execution_count": 10,
      "outputs": [
        {
          "output_type": "stream",
          "name": "stdout",
          "text": [
            "회원 관리 프로그램...\n",
            "1: 회원 데이터 추가\n",
            "2: 회원 데이터 삭제\n",
            "3: 회원 데이터 검색\n",
            "4: 전체 회원 데이터 보기\n",
            "0: 프로그램 종료\n",
            "선택:1\n",
            "추가할 회원 아이디:aaa\n",
            "이름:제갈명수\n",
            "이메일:aa@\n",
            "나이:12\n",
            "키:12\n",
            "회원 관리 프로그램...\n",
            "1: 회원 데이터 추가\n",
            "2: 회원 데이터 삭제\n",
            "3: 회원 데이터 검색\n",
            "4: 전체 회원 데이터 보기\n",
            "0: 프로그램 종료\n",
            "선택:1\n",
            "추가할 회원 아이디:bbb\n",
            "이름:독고명수\n",
            "이메일:dg@\n",
            "나이:아\n",
            "잘못 입력하여 나이를 0으로 설정합니다.\n",
            "키:가\n",
            "잘못 입력하여 키를 0으로 설정합니다.\n",
            "회원 관리 프로그램...\n",
            "1: 회원 데이터 추가\n",
            "2: 회원 데이터 삭제\n",
            "3: 회원 데이터 검색\n",
            "4: 전체 회원 데이터 보기\n",
            "0: 프로그램 종료\n",
            "선택:4\n",
            "{'aaa': ['제갈명수', 'aa@', 12, 12.0], 'bbb': ['독고명수', 'dg@', 0, 0]}\n",
            "회원 관리 프로그램...\n",
            "1: 회원 데이터 추가\n",
            "2: 회원 데이터 삭제\n",
            "3: 회원 데이터 검색\n",
            "4: 전체 회원 데이터 보기\n",
            "0: 프로그램 종료\n",
            "선택:2\n",
            "삭제할 회원 아이디:aaa\n",
            "삭제하였습니다.!!!\n",
            "회원 관리 프로그램...\n",
            "1: 회원 데이터 추가\n",
            "2: 회원 데이터 삭제\n",
            "3: 회원 데이터 검색\n",
            "4: 전체 회원 데이터 보기\n",
            "0: 프로그램 종료\n",
            "선택:3\n",
            "검색할 회원 아이디:aaa\n",
            "존재하지 않는 아이디입니다.\n",
            "회원 관리 프로그램...\n",
            "1: 회원 데이터 추가\n",
            "2: 회원 데이터 삭제\n",
            "3: 회원 데이터 검색\n",
            "4: 전체 회원 데이터 보기\n",
            "0: 프로그램 종료\n",
            "선택:3\n",
            "검색할 회원 아이디:bbb\n",
            "['독고명수', 'dg@', 0, 0]\n",
            "회원 관리 프로그램...\n",
            "1: 회원 데이터 추가\n",
            "2: 회원 데이터 삭제\n",
            "3: 회원 데이터 검색\n",
            "4: 전체 회원 데이터 보기\n",
            "0: 프로그램 종료\n",
            "선택:0\n",
            "프로그램을 종료합니다.\n"
          ]
        }
      ]
    },
    {
      "cell_type": "code",
      "source": [
        ""
      ],
      "metadata": {
        "id": "rBMvzVtZLlNX"
      },
      "execution_count": null,
      "outputs": []
    },
    {
      "cell_type": "code",
      "source": [
        ""
      ],
      "metadata": {
        "id": "S8o8Rob9LlPX"
      },
      "execution_count": null,
      "outputs": []
    }
  ]
}