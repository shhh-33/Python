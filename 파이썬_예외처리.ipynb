{
  "nbformat": 4,
  "nbformat_minor": 0,
  "metadata": {
    "colab": {
      "name": "파이썬 -예외처리.ipynb",
      "provenance": [],
      "authorship_tag": "ABX9TyMSWIS9NiEef5KyT+Ydrzuy",
      "include_colab_link": true
    },
    "kernelspec": {
      "name": "python3",
      "display_name": "Python 3"
    },
    "language_info": {
      "name": "python"
    }
  },
  "cells": [
    {
      "cell_type": "markdown",
      "metadata": {
        "id": "view-in-github",
        "colab_type": "text"
      },
      "source": [
        "<a href=\"https://colab.research.google.com/github/shhh-33/sesac-python/blob/shhh/%ED%8C%8C%EC%9D%B4%EC%8D%AC_%EC%98%88%EC%99%B8%EC%B2%98%EB%A6%AC.ipynb\" target=\"_parent\"><img src=\"https://colab.research.google.com/assets/colab-badge.svg\" alt=\"Open In Colab\"/></a>"
      ]
    },
    {
      "cell_type": "markdown",
      "source": [
        "구문 오류 : 코드 오류\n",
        "런타임 오류 : 실행 시점에 발생"
      ],
      "metadata": {
        "id": "SOkGTP7TBiUb"
      }
    },
    {
      "cell_type": "code",
      "source": [
        "num1 =int(input(\"정수\"))\n",
        "num2 =int(input(\"정수\"))\n",
        "try:\n",
        "  print(num1/num2)\n",
        "except:\n",
        "  print(\"지디명수\")\n",
        "else:\n",
        "  print(\"그냥명수\")\n",
        "finally:\n",
        "  print(\"허거덕\")"
      ],
      "metadata": {
        "colab": {
          "base_uri": "https://localhost:8080/"
        },
        "id": "sMb7s7XRBgLF",
        "outputId": "8c154508-81c0-4698-80fd-ff567afb2f6f"
      },
      "execution_count": 13,
      "outputs": [
        {
          "output_type": "stream",
          "name": "stdout",
          "text": [
            "정수3\n",
            "정수0\n",
            "지디명수\n",
            "허거덕\n"
          ]
        }
      ]
    },
    {
      "cell_type": "code",
      "source": [
        "num1 =int(input(\"정수\"))\n",
        "num2 =int(input(\"정수\"))\n",
        "try:\n",
        "  print(num1/num2)\n",
        "except Exception as ex:\n",
        "  print(type(ex))\n",
        "else:\n",
        "  print(\"그냥명수\")\n"
      ],
      "metadata": {
        "colab": {
          "base_uri": "https://localhost:8080/"
        },
        "id": "YMQN8rR6CkRl",
        "outputId": "b9cad71f-e2a0-4175-fdde-9e90522adfac"
      },
      "execution_count": 12,
      "outputs": [
        {
          "output_type": "stream",
          "name": "stdout",
          "text": [
            "정수8\n",
            "정수9\n",
            "0.8888888888888888\n",
            "그냥명수\n"
          ]
        }
      ]
    },
    {
      "cell_type": "code",
      "source": [
        "try:\n",
        "  num1 =int(input(\"정수\"))\n",
        "  num2 =int(input(\"정수\"))\n",
        "  print(num1/num2)\n",
        "  ls=[1,2,3]\n",
        "  n = int(input(\"1~3중 고르세요\"))\n",
        "  print(ls[n-1])\n",
        "except ValueError as ex:\n",
        "  print(\"값잘못전달->\",ex)\n",
        "except ZeroDivisionError:\n",
        "  print(\"젯수가 0\")\n",
        "except Exception:\n",
        "  print(\"명수: 문제가 있네\")\n",
        "else:\n",
        "  print(\"그냥명수\")\n"
      ],
      "metadata": {
        "colab": {
          "base_uri": "https://localhost:8080/"
        },
        "id": "hJgGH7_gGqHI",
        "outputId": "4ffbd24a-cb78-480b-90f3-f7abdba83caf"
      },
      "execution_count": 16,
      "outputs": [
        {
          "output_type": "stream",
          "name": "stdout",
          "text": [
            "정수8\n",
            "정수7\n",
            "1.1428571428571428\n",
            "1~3중 고르세요6\n",
            "명수: 문제가 있네\n"
          ]
        }
      ]
    },
    {
      "cell_type": "code",
      "source": [
        "#예외를 발생시키기\n",
        "\n",
        "def getSum(start,end,step=1):\n",
        "  if start > end:\n",
        "    raise ValueError #예외를 발생시킨다\n",
        "  s=0\n",
        "  \n",
        "  for i in range(start,end+1,step):\n",
        "    s+=i\n",
        "  return s"
      ],
      "metadata": {
        "id": "N1GV7h9YIJXF"
      },
      "execution_count": 20,
      "outputs": []
    },
    {
      "cell_type": "code",
      "source": [
        "try:\n",
        "   print(getSum(2,10))\n",
        "   print(getSum(10,2))\n",
        "except:\n",
        "  print(\"예외발생\")"
      ],
      "metadata": {
        "colab": {
          "base_uri": "https://localhost:8080/"
        },
        "id": "b5a0IlXlIeX2",
        "outputId": "c0474f59-2195-406f-a5c2-809aed1fefeb"
      },
      "execution_count": 22,
      "outputs": [
        {
          "output_type": "stream",
          "name": "stdout",
          "text": [
            "54\n",
            "예외발생\n"
          ]
        }
      ]
    }
  ]
}